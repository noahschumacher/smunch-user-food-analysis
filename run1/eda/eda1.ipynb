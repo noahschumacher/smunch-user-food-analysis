{
 "cells": [
  {
   "cell_type": "code",
   "execution_count": 2,
   "metadata": {},
   "outputs": [],
   "source": [
    "import pandas as pd\n",
    "import matplotlib.pyplot as plt\n",
    "import numpy as np\n",
    "import seaborn as sns\n",
    "\n",
    "%matplotlib inline  \n",
    "%config InlineBackend.figure_format='retina'"
   ]
  },
  {
   "cell_type": "code",
   "execution_count": 3,
   "metadata": {},
   "outputs": [],
   "source": [
    "## Reading in noah tables\n",
    "orders_base = pd.read_csv('../data/orders.csv', index_col=0)\n",
    "meal_ingrds_base = pd.read_csv('../data/meal_ingrds.csv', index_col=0)\n",
    "ingrds_base = pd.read_csv('../data/ingrds.csv', index_col=0)"
   ]
  },
  {
   "cell_type": "code",
   "execution_count": 4,
   "metadata": {},
   "outputs": [],
   "source": [
    "orders = orders_base\n",
    "meal_ingrds = meal_ingrds_base\n",
    "ingrds = ingrds_base"
   ]
  },
  {
   "cell_type": "code",
   "execution_count": 5,
   "metadata": {},
   "outputs": [
    {
     "data": {
      "text/html": [
       "<div>\n",
       "<style>\n",
       "    .dataframe thead tr:only-child th {\n",
       "        text-align: right;\n",
       "    }\n",
       "\n",
       "    .dataframe thead th {\n",
       "        text-align: left;\n",
       "    }\n",
       "\n",
       "    .dataframe tbody tr th {\n",
       "        vertical-align: top;\n",
       "    }\n",
       "</style>\n",
       "<table border=\"1\" class=\"dataframe\">\n",
       "  <thead>\n",
       "    <tr style=\"text-align: right;\">\n",
       "      <th></th>\n",
       "      <th>cust_id</th>\n",
       "      <th>meal_id</th>\n",
       "      <th>meal_name</th>\n",
       "    </tr>\n",
       "  </thead>\n",
       "  <tbody>\n",
       "    <tr>\n",
       "      <th>77760</th>\n",
       "      <td>0030N00002LQqSKQA1</td>\n",
       "      <td>a050N00000zZg8lQAC</td>\n",
       "      <td>Chicken Schawarma Platter</td>\n",
       "    </tr>\n",
       "    <tr>\n",
       "      <th>11627</th>\n",
       "      <td>0030N00002LQqVVQA1</td>\n",
       "      <td>a050N000010WsqnQAC</td>\n",
       "      <td>Bean &amp; Lentil Stew</td>\n",
       "    </tr>\n",
       "  </tbody>\n",
       "</table>\n",
       "</div>"
      ],
      "text/plain": [
       "                  cust_id             meal_id                  meal_name\n",
       "77760  0030N00002LQqSKQA1  a050N00000zZg8lQAC  Chicken Schawarma Platter\n",
       "11627  0030N00002LQqVVQA1  a050N000010WsqnQAC         Bean & Lentil Stew"
      ]
     },
     "execution_count": 5,
     "metadata": {},
     "output_type": "execute_result"
    }
   ],
   "source": [
    "orders.sample(2)"
   ]
  },
  {
   "cell_type": "code",
   "execution_count": 6,
   "metadata": {},
   "outputs": [
    {
     "data": {
      "text/html": [
       "<div>\n",
       "<style>\n",
       "    .dataframe thead tr:only-child th {\n",
       "        text-align: right;\n",
       "    }\n",
       "\n",
       "    .dataframe thead th {\n",
       "        text-align: left;\n",
       "    }\n",
       "\n",
       "    .dataframe tbody tr th {\n",
       "        vertical-align: top;\n",
       "    }\n",
       "</style>\n",
       "<table border=\"1\" class=\"dataframe\">\n",
       "  <thead>\n",
       "    <tr style=\"text-align: right;\">\n",
       "      <th></th>\n",
       "      <th>meal_id</th>\n",
       "      <th>ingredient_id</th>\n",
       "    </tr>\n",
       "  </thead>\n",
       "  <tbody>\n",
       "    <tr>\n",
       "      <th>14849</th>\n",
       "      <td>a050N00001CxWBtQAN</td>\n",
       "      <td>a060N00002XMfUbQAL</td>\n",
       "    </tr>\n",
       "    <tr>\n",
       "      <th>787</th>\n",
       "      <td>a050N00000zZg4FQAS</td>\n",
       "      <td>a060N00002XMfU5QAL</td>\n",
       "    </tr>\n",
       "  </tbody>\n",
       "</table>\n",
       "</div>"
      ],
      "text/plain": [
       "                  meal_id       ingredient_id\n",
       "14849  a050N00001CxWBtQAN  a060N00002XMfUbQAL\n",
       "787    a050N00000zZg4FQAS  a060N00002XMfU5QAL"
      ]
     },
     "execution_count": 6,
     "metadata": {},
     "output_type": "execute_result"
    }
   ],
   "source": [
    "meal_ingrds.sample(2)"
   ]
  },
  {
   "cell_type": "code",
   "execution_count": 7,
   "metadata": {},
   "outputs": [
    {
     "data": {
      "text/plain": [
       "980"
      ]
     },
     "execution_count": 7,
     "metadata": {},
     "output_type": "execute_result"
    }
   ],
   "source": [
    "len(meal_ingrds.meal_id.unique())"
   ]
  },
  {
   "cell_type": "code",
   "execution_count": 8,
   "metadata": {},
   "outputs": [
    {
     "data": {
      "text/html": [
       "<div>\n",
       "<style>\n",
       "    .dataframe thead tr:only-child th {\n",
       "        text-align: right;\n",
       "    }\n",
       "\n",
       "    .dataframe thead th {\n",
       "        text-align: left;\n",
       "    }\n",
       "\n",
       "    .dataframe tbody tr th {\n",
       "        vertical-align: top;\n",
       "    }\n",
       "</style>\n",
       "<table border=\"1\" class=\"dataframe\">\n",
       "  <thead>\n",
       "    <tr style=\"text-align: right;\">\n",
       "      <th></th>\n",
       "      <th>ingredient_id</th>\n",
       "      <th>name</th>\n",
       "    </tr>\n",
       "  </thead>\n",
       "  <tbody>\n",
       "    <tr>\n",
       "      <th>481</th>\n",
       "      <td>a060N00002XMfaUQAT</td>\n",
       "      <td>Wild Rice</td>\n",
       "    </tr>\n",
       "    <tr>\n",
       "      <th>925</th>\n",
       "      <td>a060N00002bMwyqQAC</td>\n",
       "      <td>Romana Salad</td>\n",
       "    </tr>\n",
       "  </tbody>\n",
       "</table>\n",
       "</div>"
      ],
      "text/plain": [
       "          ingredient_id          name\n",
       "481  a060N00002XMfaUQAT     Wild Rice\n",
       "925  a060N00002bMwyqQAC  Romana Salad"
      ]
     },
     "execution_count": 8,
     "metadata": {},
     "output_type": "execute_result"
    }
   ],
   "source": [
    "ingrds.sample(2)"
   ]
  },
  {
   "cell_type": "code",
   "execution_count": 9,
   "metadata": {},
   "outputs": [
    {
     "name": "stdout",
     "output_type": "stream",
     "text": [
      "<class 'pandas.core.frame.DataFrame'>\n",
      "Int64Index: 1414 entries, 0 to 1413\n",
      "Data columns (total 2 columns):\n",
      "ingredient_id    1414 non-null object\n",
      "name             1414 non-null object\n",
      "dtypes: object(2)\n",
      "memory usage: 33.1+ KB\n"
     ]
    }
   ],
   "source": [
    "ingrds.info()"
   ]
  },
  {
   "cell_type": "code",
   "execution_count": 10,
   "metadata": {},
   "outputs": [
    {
     "data": {
      "text/html": [
       "<div>\n",
       "<style>\n",
       "    .dataframe thead tr:only-child th {\n",
       "        text-align: right;\n",
       "    }\n",
       "\n",
       "    .dataframe thead th {\n",
       "        text-align: left;\n",
       "    }\n",
       "\n",
       "    .dataframe tbody tr th {\n",
       "        vertical-align: top;\n",
       "    }\n",
       "</style>\n",
       "<table border=\"1\" class=\"dataframe\">\n",
       "  <thead>\n",
       "    <tr style=\"text-align: right;\">\n",
       "      <th></th>\n",
       "      <th>meal_count</th>\n",
       "    </tr>\n",
       "    <tr>\n",
       "      <th>cust_id</th>\n",
       "      <th></th>\n",
       "    </tr>\n",
       "  </thead>\n",
       "  <tbody>\n",
       "    <tr>\n",
       "      <th>0030N00002TZoUJQA1</th>\n",
       "      <td>13</td>\n",
       "    </tr>\n",
       "    <tr>\n",
       "      <th>0030N00002LQqINQA1</th>\n",
       "      <td>1</td>\n",
       "    </tr>\n",
       "    <tr>\n",
       "      <th>0030N00002LQps9QAD</th>\n",
       "      <td>199</td>\n",
       "    </tr>\n",
       "  </tbody>\n",
       "</table>\n",
       "</div>"
      ],
      "text/plain": [
       "                    meal_count\n",
       "cust_id                       \n",
       "0030N00002TZoUJQA1          13\n",
       "0030N00002LQqINQA1           1\n",
       "0030N00002LQps9QAD         199"
      ]
     },
     "execution_count": 10,
     "metadata": {},
     "output_type": "execute_result"
    }
   ],
   "source": [
    "## Getting the ingredient ids\n",
    "ig_ids = ingrds.ingredient_id.values\n",
    "\n",
    "## Get the tot count of orders for every user\n",
    "cust_order_count = pd.DataFrame(orders.groupby('cust_id')['meal_id'].count())\n",
    "cust_order_count.columns = ['meal_count']\n",
    "cust_order_count.sample(3)"
   ]
  },
  {
   "cell_type": "code",
   "execution_count": 11,
   "metadata": {},
   "outputs": [
    {
     "data": {
      "text/plain": [
       "254663"
      ]
     },
     "execution_count": 11,
     "metadata": {},
     "output_type": "execute_result"
    }
   ],
   "source": [
    "cust_order_count.meal_count.sum()"
   ]
  },
  {
   "cell_type": "code",
   "execution_count": 12,
   "metadata": {},
   "outputs": [
    {
     "data": {
      "text/html": [
       "<div>\n",
       "<style>\n",
       "    .dataframe thead tr:only-child th {\n",
       "        text-align: right;\n",
       "    }\n",
       "\n",
       "    .dataframe thead th {\n",
       "        text-align: left;\n",
       "    }\n",
       "\n",
       "    .dataframe tbody tr th {\n",
       "        vertical-align: top;\n",
       "    }\n",
       "</style>\n",
       "<table border=\"1\" class=\"dataframe\">\n",
       "  <thead>\n",
       "    <tr style=\"text-align: right;\">\n",
       "      <th></th>\n",
       "      <th>meal_count</th>\n",
       "    </tr>\n",
       "  </thead>\n",
       "  <tbody>\n",
       "    <tr>\n",
       "      <th>count</th>\n",
       "      <td>9761.000000</td>\n",
       "    </tr>\n",
       "    <tr>\n",
       "      <th>mean</th>\n",
       "      <td>26.089847</td>\n",
       "    </tr>\n",
       "    <tr>\n",
       "      <th>std</th>\n",
       "      <td>39.892897</td>\n",
       "    </tr>\n",
       "    <tr>\n",
       "      <th>min</th>\n",
       "      <td>1.000000</td>\n",
       "    </tr>\n",
       "    <tr>\n",
       "      <th>25%</th>\n",
       "      <td>3.000000</td>\n",
       "    </tr>\n",
       "    <tr>\n",
       "      <th>50%</th>\n",
       "      <td>11.000000</td>\n",
       "    </tr>\n",
       "    <tr>\n",
       "      <th>75%</th>\n",
       "      <td>31.000000</td>\n",
       "    </tr>\n",
       "    <tr>\n",
       "      <th>max</th>\n",
       "      <td>447.000000</td>\n",
       "    </tr>\n",
       "  </tbody>\n",
       "</table>\n",
       "</div>"
      ],
      "text/plain": [
       "        meal_count\n",
       "count  9761.000000\n",
       "mean     26.089847\n",
       "std      39.892897\n",
       "min       1.000000\n",
       "25%       3.000000\n",
       "50%      11.000000\n",
       "75%      31.000000\n",
       "max     447.000000"
      ]
     },
     "execution_count": 12,
     "metadata": {},
     "output_type": "execute_result"
    }
   ],
   "source": [
    "cust_order_count.describe()"
   ]
  },
  {
   "cell_type": "code",
   "execution_count": 13,
   "metadata": {},
   "outputs": [
    {
     "name": "stdout",
     "output_type": "stream",
     "text": [
      "14.41% of customer have ordered  1 times. (count = 1407)\n",
      " 7.55% of customer have ordered  2 times. (count =  737)\n",
      "Make up 21.96% of total user base.\n"
     ]
    }
   ],
   "source": [
    "meal_c = cust_order_count.meal_count.values\n",
    "tot_p = 0\n",
    "for i in range(1,3):\n",
    "    c = (meal_c == i).sum()\n",
    "    percent = c / len(meal_c)\n",
    "    tot_p += percent\n",
    "    print(\"{2:5.2f}% of customer have ordered {1:2d} times. (count = {0:4d})\".format(c, i, percent*100))\n",
    "print(\"Make up {0:2.2f}% of total user base.\".format(tot_p*100))"
   ]
  },
  {
   "cell_type": "code",
   "execution_count": 14,
   "metadata": {},
   "outputs": [
    {
     "data": {
      "image/png": "[encoded data removed]",
      "text/plain": [
       "<matplotlib.figure.Figure at 0x1a237d07b8>"
      ]
     },
     "metadata": {
      "image/png": {
       "height": 277,
       "width": 384
      }
     },
     "output_type": "display_data"
    }
   ],
   "source": [
    "## Plot % ordered\n",
    "tot_p = []\n",
    "for i in range(1,125):\n",
    "    percent = (meal_c <= i).sum() / len(meal_c)\n",
    "    tot_p.append(percent)\n",
    "    \n",
    "plt.plot(np.arange(1,125), tot_p)\n",
    "plt.title(\"% of Customer who have ordered x or less meals.\")\n",
    "plt.xlabel(\"Number of meals ordered.\")\n",
    "plt.ylabel(\"% of Customers\")\n",
    "plt.minorticks_on()\n",
    "plt.show()"
   ]
  },
  {
   "cell_type": "code",
   "execution_count": 15,
   "metadata": {},
   "outputs": [
    {
     "data": {
      "image/png": "[encoded data removed]",
      "text/plain": [
       "<matplotlib.figure.Figure at 0x1a2367d898>"
      ]
     },
     "metadata": {
      "image/png": {
       "height": 248,
       "width": 378
      }
     },
     "output_type": "display_data"
    }
   ],
   "source": [
    "## Inspecting the breakdown of user order count\n",
    "counts = cust_order_count.meal_count.values\n",
    "plt.hist(counts, bins=200)\n",
    "#plt.xlim(0)\n",
    "plt.grid()\n",
    "plt.minorticks_on()\n",
    "plt.show()"
   ]
  },
  {
   "cell_type": "code",
   "execution_count": 14,
   "metadata": {},
   "outputs": [
    {
     "data": {
      "text/plain": [
       "<matplotlib.text.Text at 0x1a1f591b70>"
      ]
     },
     "execution_count": 14,
     "metadata": {},
     "output_type": "execute_result"
    },
    {
     "data": {
      "image/png": "[encoded data removed]",
      "text/plain": [
       "<matplotlib.figure.Figure at 0x1a1f5437f0>"
      ]
     },
     "metadata": {
      "image/png": {
       "height": 277,
       "width": 360
      }
     },
     "output_type": "display_data"
    }
   ],
   "source": [
    "## Box plot of number of orders per customer\n",
    "sns.boxplot(counts)\n",
    "plt.xlim(0,200)\n",
    "plt.xlabel('Number of Orders')\n",
    "plt.title(\"Count of Order per Customer\")"
   ]
  },
  {
   "cell_type": "code",
   "execution_count": 20,
   "metadata": {},
   "outputs": [
    {
     "data": {
      "text/html": [
       "<div>\n",
       "<style>\n",
       "    .dataframe thead tr:only-child th {\n",
       "        text-align: right;\n",
       "    }\n",
       "\n",
       "    .dataframe thead th {\n",
       "        text-align: left;\n",
       "    }\n",
       "\n",
       "    .dataframe tbody tr th {\n",
       "        vertical-align: top;\n",
       "    }\n",
       "</style>\n",
       "<table border=\"1\" class=\"dataframe\">\n",
       "  <thead>\n",
       "    <tr style=\"text-align: right;\">\n",
       "      <th></th>\n",
       "      <th>ingredients</th>\n",
       "    </tr>\n",
       "    <tr>\n",
       "      <th>meal_id</th>\n",
       "      <th></th>\n",
       "    </tr>\n",
       "  </thead>\n",
       "  <tbody>\n",
       "    <tr>\n",
       "      <th>a050N00000zZfy5QAC</th>\n",
       "      <td>[a060N00002XMfYIQA1, a060N00002XMfZOQA1, a060N...</td>\n",
       "    </tr>\n",
       "    <tr>\n",
       "      <th>a050N00000zZfy6QAC</th>\n",
       "      <td>[a060N00002XMfTnQAL, a060N00002XMfW7QAL, a060N...</td>\n",
       "    </tr>\n",
       "  </tbody>\n",
       "</table>\n",
       "</div>"
      ],
      "text/plain": [
       "                                                          ingredients\n",
       "meal_id                                                              \n",
       "a050N00000zZfy5QAC  [a060N00002XMfYIQA1, a060N00002XMfZOQA1, a060N...\n",
       "a050N00000zZfy6QAC  [a060N00002XMfTnQAL, a060N00002XMfW7QAL, a060N..."
      ]
     },
     "execution_count": 20,
     "metadata": {},
     "output_type": "execute_result"
    }
   ],
   "source": [
    "## Creating orders dataframe with userid and list of meals ordered\n",
    "orders_grouped = pd.DataFrame(orders.groupby('cust_id')['meal_id'].apply(list))\n",
    "orders_grouped.columns = ['meals_ordered']\n",
    "\n",
    "\n",
    "## Grouping table for the meal ingredients\n",
    "meal_ingrds_grouped = pd.DataFrame(meal_ingrds.groupby('meal_id')['ingredient_id'].apply(list))\n",
    "meal_ingrds_grouped.columns = ['ingredients']\n",
    "meal_ingrds_grouped.head(2)"
   ]
  },
  {
   "cell_type": "code",
   "execution_count": 21,
   "metadata": {},
   "outputs": [
    {
     "data": {
      "text/html": [
       "<div>\n",
       "<style>\n",
       "    .dataframe thead tr:only-child th {\n",
       "        text-align: right;\n",
       "    }\n",
       "\n",
       "    .dataframe thead th {\n",
       "        text-align: left;\n",
       "    }\n",
       "\n",
       "    .dataframe tbody tr th {\n",
       "        vertical-align: top;\n",
       "    }\n",
       "</style>\n",
       "<table border=\"1\" class=\"dataframe\">\n",
       "  <thead>\n",
       "    <tr style=\"text-align: right;\">\n",
       "      <th></th>\n",
       "      <th>meals_ordered</th>\n",
       "    </tr>\n",
       "    <tr>\n",
       "      <th>cust_id</th>\n",
       "      <th></th>\n",
       "    </tr>\n",
       "  </thead>\n",
       "  <tbody>\n",
       "    <tr>\n",
       "      <th>0030N00002I6CDNQA3</th>\n",
       "      <td>[a050N000014xt9lQAA, a050N000013tq39QAA, a050N...</td>\n",
       "    </tr>\n",
       "    <tr>\n",
       "      <th>0030N00002LQoyvQAD</th>\n",
       "      <td>[a050N00000zZg4YQAS, a050N000014xt5WQAQ, a050N...</td>\n",
       "    </tr>\n",
       "  </tbody>\n",
       "</table>\n",
       "</div>"
      ],
      "text/plain": [
       "                                                        meals_ordered\n",
       "cust_id                                                              \n",
       "0030N00002I6CDNQA3  [a050N000014xt9lQAA, a050N000013tq39QAA, a050N...\n",
       "0030N00002LQoyvQAD  [a050N00000zZg4YQAS, a050N000014xt5WQAQ, a050N..."
      ]
     },
     "execution_count": 21,
     "metadata": {},
     "output_type": "execute_result"
    }
   ],
   "source": [
    "orders_grouped.head(2)"
   ]
  },
  {
   "cell_type": "code",
   "execution_count": 22,
   "metadata": {},
   "outputs": [
    {
     "data": {
      "text/html": [
       "<div>\n",
       "<style>\n",
       "    .dataframe thead tr:only-child th {\n",
       "        text-align: right;\n",
       "    }\n",
       "\n",
       "    .dataframe thead th {\n",
       "        text-align: left;\n",
       "    }\n",
       "\n",
       "    .dataframe tbody tr th {\n",
       "        vertical-align: top;\n",
       "    }\n",
       "</style>\n",
       "<table border=\"1\" class=\"dataframe\">\n",
       "  <thead>\n",
       "    <tr style=\"text-align: right;\">\n",
       "      <th></th>\n",
       "      <th>ingredient_id</th>\n",
       "      <th>name</th>\n",
       "    </tr>\n",
       "  </thead>\n",
       "  <tbody>\n",
       "    <tr>\n",
       "      <th>1377</th>\n",
       "      <td>a060N00002hVWvvQAG</td>\n",
       "      <td>Plum</td>\n",
       "    </tr>\n",
       "    <tr>\n",
       "      <th>724</th>\n",
       "      <td>a060N00002ZbkCVQAZ</td>\n",
       "      <td>palm sugar</td>\n",
       "    </tr>\n",
       "  </tbody>\n",
       "</table>\n",
       "</div>"
      ],
      "text/plain": [
       "           ingredient_id        name\n",
       "1377  a060N00002hVWvvQAG        Plum\n",
       "724   a060N00002ZbkCVQAZ  palm sugar"
      ]
     },
     "execution_count": 22,
     "metadata": {},
     "output_type": "execute_result"
    }
   ],
   "source": [
    "ingrds.sample(2)"
   ]
  },
  {
   "cell_type": "code",
   "execution_count": 23,
   "metadata": {},
   "outputs": [],
   "source": [
    "## Trying to get table with cust_id | ingredients_list\n",
    "#cust_ing = orders_grouped.meals_ordered.apply(lambda x: [meal_ingrds_grouped.loc[i].values[0] for i in x])"
   ]
  },
  {
   "cell_type": "code",
   "execution_count": 24,
   "metadata": {},
   "outputs": [
    {
     "name": "stdout",
     "output_type": "stream",
     "text": [
      "{'onions': 23, 'zucchini': 20, 'parsley': 32, 'olive oil': 25, 'tomato': 33, 'hummus (chickpea)': 9, 'cauliflower': 8, 'paprika': 8, 'halloumi (goats cheese)': 2, 'falafel (chickpeas)': 10, 'arabic pita bread (flour)': 6, 'batata harra (potato-coriander-chilli-pomegranate-apple-garlic-lemon)': 2, 'sesame yoghurt dressing (sesame yoghurt - chili - pomegranat)': 2, 'coriander': 22, 'wheat flour': 9, 'romaine lettuce': 13, 'chili': 15, 'black beans': 9, 'cheese': 12, 'rice': 13, 'sunflower oil': 6, 'beef': 4, 'fried onion': 6, 'potatoes': 18, 'sesame': 15, 'wheat bread': 1, 'bacon (pork)': 1, 'lettuce': 7, 'mayonnaise': 6, 'pickles': 1, 'tomato ketchup': 2, 'bbq sauce (ketchup - onion - brown sugar)': 1, 'ginger': 7, 'minced beef': 1, 'sugar': 15, 'mint': 13, 'garlic': 30, 'pine nuts': 7, 'lemon': 22, 'cumin': 9, 'oregano': 13, 'nutmeg': 5, 'bulgur': 7, 'basil': 4, 'red cabbage': 5, 'cayenne': 5, 'white cabbage': 5, 'carrots': 5, 'lentils': 2, 'lamb': 4, 'tomato sauce': 6, 'pork': 1, 'egg': 9, 'curry powder': 6, 'aubergine': 2, 'herbs': 7, 'flour': 10, 'broccoli': 8, 'bell pepper': 13, 'carrot': 19, 'rapeseed oil': 10, 'breadcrumb flour': 1, 'corn': 4, 'green beans': 4, 'chicken': 6, 'spices': 10, 'white basmati rice': 11, 'mustard seed': 1, 'curry leaves': 1, 'cumin seeds': 1, 'rocket': 10, 'chickpeas': 14, 'cucumber': 23, 'sumac': 4, 'cashews': 5, 'tomatoes': 13, 'tahini sauce': 4, 'pomegranate syrup': 4, 'pita wrap (flour)': 4, 'salmon': 2, 'avocado': 7, 'cabbage': 2, 'sour cream': 5, 'tex mex cheese': 1, 'cashew nuts': 4, 'almonds': 5, 'raisins': 4, 'cream': 12, 'green peas': 3, 'potato starch': 5, 'green lentils': 1, 'lime': 2, 'red onions': 3, 'coconut milk': 4, 'coconut': 2, 'onion': 4, 'chili powder': 1, 'tumeric': 2, 'yoghurt (dairy)': 7, 'halloumi cheese (cow / goat milk)': 3, 'sesame oil': 3, 'couscous': 4, 'bulghur tabbouleh': 3, 'tahini': 2, 'eggplant': 14, 'sourdough bread': 2, 'bulgur salad(spinach-chickpea-bulgur-tomato-cucumber-mint-lemon-olive oil-sesam)': 1, 'brownie (sugar, flour, flaxseeds, canola oil, cacao, vanilla, baking powder)': 1, 'spinach': 7, 'salt': 2, 'chives': 6, 'yeast': 4, 'semolina': 1, 'potato salad (potato - vegetable stock - vinegar - chives)': 1, 'manioc': 4, 'mixed greens': 6, 'lime juice': 4, 'feta cheese': 6, 'paprika powder (mild)': 2, 'tomato puree': 2, 'pasta (wheat flour)': 1, 'walnuts': 2, 'swiss chard': 1, 'goat cheese': 1, 'lollo rosso lettuce': 2, 'baby spinach': 3, 'sundried tomatoes': 3, 'lollo bionda lettuce': 2, \"lamb's lettuce\": 2, 'radicchio': 1, 'williams pears': 1, 'chinese rose sprouts': 1, 'vinegar': 7, 'raspberry': 1, 'raspberry vinegar': 1, 'mustard': 4, 'chia seeds': 2, 'wheat tortilla wrap': 2, 'quinoa': 4, 'chipotle chili': 1, 'balsamic vinegar': 1, 'pomegranate': 3, 'cherry tomatoes': 1, 'sprouts': 2, 'dark chocolate (vegan)': 1, 'string beans': 1, 'mushrooms': 5, 'brioche bun (flour, milk, yeast, egg)': 1, 'beetroot': 2, 'mango chutney': 1, 'prunes': 1, 'pepper': 5, 'ras-el-hanout spice': 1, 'oats': 2, 'curd cheese': 2, 'mango': 4, 'spring onion': 4, 'herb creme': 1, 'lemon juice': 6, 'corn flour': 6, 'tofu': 5, 'pinto beans': 2, 'paneer cheese (cow milk)': 1, 'tandoori-spice mix': 1, 'butter': 5, 'fresh mint': 1, 'iceberg salad': 2, 'lollo biondo salad': 1, 'mixed green salad': 1, 'romaine salad': 1, 'lolo rosso salad': 1, 'naan bread (flour)': 1, 'horseradish': 1, 'red bellpepper': 2, 'green bell pepper': 3, 'olive oil vinaigrette': 1, 'maize': 2, 'gouda cheese': 2, 'honey': 2, 'shallot': 1, 'lemon peel': 1, 'chicken stock': 1, 'bay leaves': 1, 'polenta (corn semolina)': 1, 'codfish': 1, 'orange peel': 1, 'puffed rice': 1, 'purréed tomatoes': 1, 'emmentaler cheese': 3, 'bio egg': 3, 'dill': 6, 'vegetable broth': 3, 'vegetable stock': 1, 'fava beans': 1, 'tomato paste': 1, 'organic beluga lentils': 2, 'plantain': 2, 'distilled vinegar': 2, 'hallumi': 1, 'black cumin': 1, 'fenugreek': 1, 'buttermilk': 1, 'peanuts': 2, 'goji berries': 1, 'pak choi': 1, 'milk': 3, 'red pepper': 2, 'chili sauce': 1, 'thyme': 2, 'margarine': 1, 'parmesan cheese': 1, 'peas': 2, 'white vinegar': 2, 'rote beete sprossen': 1, 'radishes': 1, 'radish': 1, 'long-grain rice': 1, 'olives': 1, 'creme fraiche': 1, 'jalapeno chili pepper': 1, 'mozzarella': 1, 'lasagne sheets': 1, 'celeriac': 5, 'hokkaido pumpkin': 2, 'savoy': 2, 'butter beans': 1, 'capers': 1, 'white wine vinegar': 1, 'red chili': 1, 'poppy seeds': 1, 'egg powder': 1, 'modified starch': 1, 'apple vinegar': 1, 'xanthan': 1, 'sriracha sauce': 1, 'fried onions': 1, 'mountain cheese': 1, 'leek': 1, 'kidney beans': 1, 'white beans': 1, 'red kidney bean': 1, 'breadcrumbs': 2, 'quark': 1, 'chicken breast': 1, 'bell peppers': 1, 'courgette': 1, 'pepper sauce': 1}\n"
     ]
    }
   ],
   "source": [
    "## Getting frequency for one user...\n",
    "cust_meals = orders_grouped.loc['0030N00002LQqfCQAT'].values[0]\n",
    "cust_meals\n",
    "\n",
    "ingr_dic = {}\n",
    "for meal in cust_meals:\n",
    "    ingrs = meal_ingrds_grouped.loc[meal].values[0]\n",
    "    \n",
    "    for ing in ingrs:\n",
    "        name = ingrds.loc[ingrds.ingredient_id == ing, :].name.values[0].lower()\n",
    "        if name in ingr_dic:\n",
    "            ingr_dic[name] += 1\n",
    "        else:\n",
    "            ingr_dic[name] = 1\n",
    "\n",
    "print(ingr_dic)"
   ]
  },
  {
   "cell_type": "markdown",
   "metadata": {},
   "source": [
    "* The bellow indicates that some ingredients that are the same have multiple unique ingredient ID's that are used.\n",
    "* The counts of the duplicates is strong enough to factor into the frequency and needs to be accounted for.\n",
    "* For now will not worry about this and will only use the top x ingredients."
   ]
  },
  {
   "cell_type": "code",
   "execution_count": 25,
   "metadata": {},
   "outputs": [
    {
     "name": "stdout",
     "output_type": "stream",
     "text": [
      "almonds 0.078125\n",
      "apple vinegar 0.015625\n",
      "arabic pita bread (flour) 0.09375\n",
      "aubergine 0.03125\n",
      "avocado 0.109375\n",
      "baby spinach 0.046875\n",
      "bacon (pork) 0.015625\n",
      "balsamic vinegar 0.015625\n",
      "basil 0.0625\n",
      "batata harra (potato-coriander-chilli-pomegranate-apple-garlic-lemon) 0.03125\n",
      "bay leaves 0.015625\n",
      "bbq sauce (ketchup - onion - brown sugar) 0.015625\n",
      "beef 0.0625\n",
      "beetroot 0.03125\n",
      "bell pepper 0.203125\n",
      "bell peppers 0.015625\n",
      "bio egg 0.046875\n",
      "black beans 0.140625\n",
      "black cumin 0.015625\n",
      "breadcrumb flour 0.015625\n",
      "breadcrumbs 0.03125\n",
      "brioche bun (flour, milk, yeast, egg) 0.015625\n",
      "broccoli 0.125\n",
      "brownie (sugar, flour, flaxseeds, canola oil, cacao, vanilla, baking powder) 0.015625\n",
      "bulghur tabbouleh 0.046875\n",
      "bulgur 0.109375\n",
      "bulgur salad(spinach-chickpea-bulgur-tomato-cucumber-mint-lemon-olive oil-sesam) 0.015625\n",
      "butter 0.078125\n",
      "butter beans 0.015625\n",
      "buttermilk 0.015625\n",
      "cabbage 0.03125\n",
      "capers 0.015625\n",
      "carrot 0.296875\n",
      "carrots 0.078125\n",
      "cashew nuts 0.0625\n",
      "cashews 0.078125\n",
      "cauliflower 0.125\n",
      "cayenne 0.078125\n",
      "celeriac 0.078125\n",
      "cheese 0.1875\n",
      "cherry tomatoes 0.015625\n",
      "chia seeds 0.03125\n",
      "chicken 0.09375\n",
      "chicken breast 0.015625\n",
      "chicken stock 0.015625\n",
      "chickpeas 0.21875\n",
      "chili 0.234375\n",
      "chili powder 0.015625\n",
      "chili sauce 0.015625\n",
      "chinese rose sprouts 0.015625\n",
      "chipotle chili 0.015625\n",
      "chives 0.09375\n",
      "coconut 0.03125\n",
      "coconut milk 0.0625\n",
      "codfish 0.015625\n",
      "coriander 0.34375\n",
      "corn 0.0625\n",
      "corn flour 0.09375\n",
      "courgette 0.015625\n",
      "couscous 0.0625\n",
      "cream 0.1875\n",
      "creme fraiche 0.015625\n",
      "cucumber 0.359375\n",
      "cumin 0.140625\n",
      "cumin seeds 0.015625\n",
      "curd cheese 0.03125\n",
      "curry leaves 0.015625\n",
      "curry powder 0.09375\n",
      "dark chocolate (vegan) 0.015625\n",
      "dill 0.09375\n",
      "distilled vinegar 0.03125\n",
      "egg 0.140625\n",
      "egg powder 0.015625\n",
      "eggplant 0.21875\n",
      "emmentaler cheese 0.046875\n",
      "falafel (chickpeas) 0.15625\n",
      "fava beans 0.015625\n",
      "fenugreek 0.015625\n",
      "feta cheese 0.09375\n",
      "flour 0.15625\n",
      "fresh mint 0.015625\n",
      "fried onion 0.09375\n",
      "fried onions 0.015625\n",
      "garlic 0.46875\n",
      "ginger 0.109375\n",
      "goat cheese 0.015625\n",
      "goji berries 0.015625\n",
      "gouda cheese 0.03125\n",
      "green beans 0.0625\n",
      "green bell pepper 0.046875\n",
      "green lentils 0.015625\n",
      "green peas 0.046875\n",
      "halloumi (goats cheese) 0.03125\n",
      "halloumi cheese (cow / goat milk) 0.046875\n",
      "hallumi 0.015625\n",
      "herb creme 0.015625\n",
      "herbs 0.109375\n",
      "hokkaido pumpkin 0.03125\n",
      "honey 0.03125\n",
      "horseradish 0.015625\n",
      "hummus (chickpea) 0.140625\n",
      "iceberg salad 0.03125\n",
      "jalapeno chili pepper 0.015625\n",
      "kidney beans 0.015625\n",
      "lamb 0.0625\n",
      "lamb's lettuce 0.03125\n",
      "lasagne sheets 0.015625\n",
      "leek 0.015625\n",
      "lemon 0.34375\n",
      "lemon juice 0.09375\n",
      "lemon peel 0.015625\n",
      "lentils 0.03125\n",
      "lettuce 0.109375\n",
      "lime 0.03125\n",
      "lime juice 0.0625\n",
      "lollo bionda lettuce 0.03125\n",
      "lollo biondo salad 0.015625\n",
      "lollo rosso lettuce 0.03125\n",
      "lolo rosso salad 0.015625\n",
      "long-grain rice 0.015625\n",
      "maize 0.03125\n",
      "mango 0.0625\n",
      "mango chutney 0.015625\n",
      "manioc 0.0625\n",
      "margarine 0.015625\n",
      "mayonnaise 0.09375\n",
      "milk 0.046875\n",
      "minced beef 0.015625\n",
      "mint 0.203125\n",
      "mixed green salad 0.015625\n",
      "mixed greens 0.09375\n",
      "modified starch 0.015625\n",
      "mountain cheese 0.015625\n",
      "mozzarella 0.015625\n",
      "mushrooms 0.078125\n",
      "mustard 0.0625\n",
      "mustard seed 0.015625\n",
      "naan bread (flour) 0.015625\n",
      "nutmeg 0.078125\n",
      "oats 0.03125\n",
      "olive oil 0.390625\n",
      "olive oil vinaigrette 0.015625\n",
      "olives 0.015625\n",
      "onion 0.0625\n",
      "onions 0.359375\n",
      "orange peel 0.015625\n",
      "oregano 0.203125\n",
      "organic beluga lentils 0.03125\n",
      "pak choi 0.015625\n",
      "paneer cheese (cow milk) 0.015625\n",
      "paprika 0.125\n",
      "paprika powder (mild) 0.03125\n",
      "parmesan cheese 0.015625\n",
      "parsley 0.5\n",
      "pasta (wheat flour) 0.015625\n",
      "peanuts 0.03125\n",
      "peas 0.03125\n",
      "pepper 0.078125\n",
      "pepper sauce 0.015625\n",
      "pickles 0.015625\n",
      "pine nuts 0.109375\n",
      "pinto beans 0.03125\n",
      "pita wrap (flour) 0.0625\n",
      "plantain 0.03125\n",
      "polenta (corn semolina) 0.015625\n",
      "pomegranate 0.046875\n",
      "pomegranate syrup 0.0625\n",
      "poppy seeds 0.015625\n",
      "pork 0.015625\n",
      "potato salad (potato - vegetable stock - vinegar - chives) 0.015625\n",
      "potato starch 0.078125\n",
      "potatoes 0.28125\n",
      "prunes 0.015625\n",
      "puffed rice 0.015625\n",
      "purréed tomatoes 0.015625\n",
      "quark 0.015625\n",
      "quinoa 0.0625\n",
      "radicchio 0.015625\n",
      "radish 0.015625\n",
      "radishes 0.015625\n",
      "raisins 0.0625\n",
      "rapeseed oil 0.15625\n",
      "ras-el-hanout spice 0.015625\n",
      "raspberry 0.015625\n",
      "raspberry vinegar 0.015625\n",
      "red bellpepper 0.03125\n",
      "red cabbage 0.078125\n",
      "red chili 0.015625\n",
      "red kidney bean 0.015625\n",
      "red onions 0.046875\n",
      "red pepper 0.03125\n",
      "rice 0.203125\n",
      "rocket 0.15625\n",
      "romaine lettuce 0.203125\n",
      "romaine salad 0.015625\n",
      "rote beete sprossen 0.015625\n",
      "salmon 0.03125\n",
      "salt 0.03125\n",
      "savoy 0.03125\n",
      "semolina 0.015625\n",
      "sesame 0.234375\n",
      "sesame oil 0.046875\n",
      "sesame yoghurt dressing (sesame yoghurt - chili - pomegranat) 0.03125\n",
      "shallot 0.015625\n",
      "sour cream 0.078125\n",
      "sourdough bread 0.03125\n",
      "spices 0.15625\n",
      "spinach 0.109375\n",
      "spring onion 0.0625\n",
      "sprouts 0.03125\n",
      "sriracha sauce 0.015625\n",
      "string beans 0.015625\n",
      "sugar 0.234375\n",
      "sumac 0.0625\n",
      "sundried tomatoes 0.046875\n",
      "sunflower oil 0.09375\n",
      "swiss chard 0.015625\n",
      "tahini 0.03125\n",
      "tahini sauce 0.0625\n",
      "tandoori-spice mix 0.015625\n",
      "tex mex cheese 0.015625\n",
      "thyme 0.03125\n",
      "tofu 0.078125\n",
      "tomato 0.515625\n",
      "tomato ketchup 0.03125\n",
      "tomato paste 0.015625\n",
      "tomato puree 0.03125\n",
      "tomato sauce 0.09375\n",
      "tomatoes 0.203125\n",
      "tumeric 0.03125\n",
      "vegetable broth 0.046875\n",
      "vegetable stock 0.015625\n",
      "vinegar 0.109375\n",
      "walnuts 0.03125\n",
      "wheat bread 0.015625\n",
      "wheat flour 0.140625\n",
      "wheat tortilla wrap 0.03125\n",
      "white basmati rice 0.171875\n",
      "white beans 0.015625\n",
      "white cabbage 0.078125\n",
      "white vinegar 0.03125\n",
      "white wine vinegar 0.015625\n",
      "williams pears 0.015625\n",
      "xanthan 0.015625\n",
      "yeast 0.0625\n",
      "yoghurt (dairy) 0.109375\n",
      "zucchini 0.3125\n"
     ]
    }
   ],
   "source": [
    "ings = []\n",
    "freq = []\n",
    "for key in ingr_dic:\n",
    "    ings.append(key)\n",
    "    count = ingr_dic[key]\n",
    "    freq.append(count/len(cust_meals))\n",
    "\n",
    "args = np.argsort(ings)\n",
    "for ar in args:\n",
    "    print(ings[ar], freq[ar])"
   ]
  },
  {
   "cell_type": "code",
   "execution_count": null,
   "metadata": {},
   "outputs": [],
   "source": []
  },
  {
   "cell_type": "code",
   "execution_count": null,
   "metadata": {},
   "outputs": [],
   "source": []
  }
 ],
 "metadata": {
  "kernelspec": {
   "display_name": "Python 3",
   "language": "python",
   "name": "python3"
  },
  "language_info": {
   "codemirror_mode": {
    "name": "ipython",
    "version": 3
   },
   "file_extension": ".py",
   "mimetype": "text/x-python",
   "name": "python",
   "nbconvert_exporter": "python",
   "pygments_lexer": "ipython3",
   "version": "3.6.8"
  }
 },
 "nbformat": 4,
 "nbformat_minor": 2
}
