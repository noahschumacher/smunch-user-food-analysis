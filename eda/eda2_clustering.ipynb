{
 "cells": [
  {
   "cell_type": "code",
   "execution_count": 1,
   "metadata": {},
   "outputs": [],
   "source": [
    "## Initialization and imports\n",
    "import pandas as pd \n",
    "import numpy as np \n",
    "\n",
    "from sklearn.cluster import KMeans\n",
    "from sklearn.metrics import silhouette_score\n",
    "\n",
    "from scipy.spatial.distance import pdist\n",
    "from scipy.spatial.distance import squareform\n",
    "from scipy.cluster.hierarchy import dendrogram, linkage\n",
    "\n",
    "from matplotlib import pyplot as plt\n",
    "%matplotlib inline  \n",
    "%config InlineBackend.figure_format='retina'\n",
    "\n",
    "## Set random seed\n",
    "np.random.seed(seed=14)"
   ]
  },
  {
   "cell_type": "code",
   "execution_count": 2,
   "metadata": {},
   "outputs": [
    {
     "data": {
      "text/html": [
       "<div>\n",
       "<style>\n",
       "    .dataframe thead tr:only-child th {\n",
       "        text-align: right;\n",
       "    }\n",
       "\n",
       "    .dataframe thead th {\n",
       "        text-align: left;\n",
       "    }\n",
       "\n",
       "    .dataframe tbody tr th {\n",
       "        vertical-align: top;\n",
       "    }\n",
       "</style>\n",
       "<table border=\"1\" class=\"dataframe\">\n",
       "  <thead>\n",
       "    <tr style=\"text-align: right;\">\n",
       "      <th></th>\n",
       "      <th>almonds</th>\n",
       "      <th>rice pudding (extra)</th>\n",
       "      <th>zafran</th>\n",
       "      <th>jasmine rice</th>\n",
       "      <th>sea salt</th>\n",
       "      <th>salsa roja</th>\n",
       "      <th>horseradish cream</th>\n",
       "      <th>tuna</th>\n",
       "      <th>soya, dark beer, peas, tomato paste, pepper</th>\n",
       "      <th>sake</th>\n",
       "      <th>...</th>\n",
       "      <th>blackberry</th>\n",
       "      <th>xanthan</th>\n",
       "      <th>coconut cream</th>\n",
       "      <th>mediterranean herbs</th>\n",
       "      <th>thyme</th>\n",
       "      <th>plantain</th>\n",
       "      <th>pomegranate juice</th>\n",
       "      <th>smoked bacon (pork)</th>\n",
       "      <th>olive oil</th>\n",
       "      <th>cust_id</th>\n",
       "    </tr>\n",
       "  </thead>\n",
       "  <tbody>\n",
       "    <tr>\n",
       "      <th>1646</th>\n",
       "      <td>0.000</td>\n",
       "      <td>0.0</td>\n",
       "      <td>0.0</td>\n",
       "      <td>0.0</td>\n",
       "      <td>0.0</td>\n",
       "      <td>0.0</td>\n",
       "      <td>0.0</td>\n",
       "      <td>0.0</td>\n",
       "      <td>0.0</td>\n",
       "      <td>0.0</td>\n",
       "      <td>...</td>\n",
       "      <td>0.0</td>\n",
       "      <td>0.0</td>\n",
       "      <td>0.0</td>\n",
       "      <td>0.0</td>\n",
       "      <td>0.250</td>\n",
       "      <td>0.0</td>\n",
       "      <td>0.0</td>\n",
       "      <td>0.0</td>\n",
       "      <td>0.750</td>\n",
       "      <td>0030N00002oRiVgQAK</td>\n",
       "    </tr>\n",
       "    <tr>\n",
       "      <th>2071</th>\n",
       "      <td>0.134</td>\n",
       "      <td>0.0</td>\n",
       "      <td>0.0</td>\n",
       "      <td>0.0</td>\n",
       "      <td>0.0</td>\n",
       "      <td>0.0</td>\n",
       "      <td>0.0</td>\n",
       "      <td>0.0</td>\n",
       "      <td>0.0</td>\n",
       "      <td>0.0</td>\n",
       "      <td>...</td>\n",
       "      <td>0.0</td>\n",
       "      <td>0.0</td>\n",
       "      <td>0.0</td>\n",
       "      <td>0.0</td>\n",
       "      <td>0.067</td>\n",
       "      <td>0.0</td>\n",
       "      <td>0.0</td>\n",
       "      <td>0.0</td>\n",
       "      <td>0.402</td>\n",
       "      <td>0030N00002mSfyMQAS</td>\n",
       "    </tr>\n",
       "    <tr>\n",
       "      <th>1781</th>\n",
       "      <td>0.071</td>\n",
       "      <td>0.0</td>\n",
       "      <td>0.0</td>\n",
       "      <td>0.0</td>\n",
       "      <td>0.0</td>\n",
       "      <td>0.0</td>\n",
       "      <td>0.0</td>\n",
       "      <td>0.0</td>\n",
       "      <td>0.0</td>\n",
       "      <td>0.0</td>\n",
       "      <td>...</td>\n",
       "      <td>0.0</td>\n",
       "      <td>0.0</td>\n",
       "      <td>0.0</td>\n",
       "      <td>0.0</td>\n",
       "      <td>0.000</td>\n",
       "      <td>0.0</td>\n",
       "      <td>0.0</td>\n",
       "      <td>0.0</td>\n",
       "      <td>0.284</td>\n",
       "      <td>0030N00002LQpIPQA1</td>\n",
       "    </tr>\n",
       "  </tbody>\n",
       "</table>\n",
       "<p>3 rows × 976 columns</p>\n",
       "</div>"
      ],
      "text/plain": [
       "      almonds  rice pudding (extra)  zafran  jasmine rice  sea salt  \\\n",
       "1646    0.000                   0.0     0.0           0.0       0.0   \n",
       "2071    0.134                   0.0     0.0           0.0       0.0   \n",
       "1781    0.071                   0.0     0.0           0.0       0.0   \n",
       "\n",
       "      salsa roja  horseradish cream  tuna  \\\n",
       "1646         0.0                0.0   0.0   \n",
       "2071         0.0                0.0   0.0   \n",
       "1781         0.0                0.0   0.0   \n",
       "\n",
       "      soya, dark beer, peas, tomato paste, pepper  sake         ...          \\\n",
       "1646                                          0.0   0.0         ...           \n",
       "2071                                          0.0   0.0         ...           \n",
       "1781                                          0.0   0.0         ...           \n",
       "\n",
       "      blackberry  xanthan  coconut cream  mediterranean herbs  thyme  \\\n",
       "1646         0.0      0.0            0.0                  0.0  0.250   \n",
       "2071         0.0      0.0            0.0                  0.0  0.067   \n",
       "1781         0.0      0.0            0.0                  0.0  0.000   \n",
       "\n",
       "      plantain  pomegranate juice  smoked bacon (pork)  olive oil  \\\n",
       "1646       0.0                0.0                  0.0      0.750   \n",
       "2071       0.0                0.0                  0.0      0.402   \n",
       "1781       0.0                0.0                  0.0      0.284   \n",
       "\n",
       "                 cust_id  \n",
       "1646  0030N00002oRiVgQAK  \n",
       "2071  0030N00002mSfyMQAS  \n",
       "1781  0030N00002LQpIPQA1  \n",
       "\n",
       "[3 rows x 976 columns]"
      ]
     },
     "execution_count": 2,
     "metadata": {},
     "output_type": "execute_result"
    }
   ],
   "source": [
    "## Read in pickle data\n",
    "ing_freq = pd.read_pickle(\"../model/user_f_df.p\")\n",
    "ing_freq.sample(3)"
   ]
  },
  {
   "cell_type": "code",
   "execution_count": 3,
   "metadata": {},
   "outputs": [
    {
     "name": "stdout",
     "output_type": "stream",
     "text": [
      "<class 'pandas.core.frame.DataFrame'>\n",
      "Int64Index: 2150 entries, 0 to 2149\n",
      "Columns: 976 entries, almonds to cust_id\n",
      "dtypes: float64(975), object(1)\n",
      "memory usage: 16.0+ MB\n"
     ]
    }
   ],
   "source": [
    "ing_freq.info()"
   ]
  },
  {
   "cell_type": "code",
   "execution_count": 4,
   "metadata": {},
   "outputs": [],
   "source": [
    "## Need to scale the features for clustering (distance metric)\n",
    "def scale_df(df):\n",
    "    for col in df.columns:\n",
    "        if col != 'cust_id':\n",
    "            df[col] = (df[col] - df[col].mean())/df[col].std()\n",
    "    return df\n",
    "        \n",
    "ing_freq = scale_df(ing_freq)"
   ]
  },
  {
   "cell_type": "code",
   "execution_count": 25,
   "metadata": {},
   "outputs": [
    {
     "data": {
      "text/html": [
       "<div>\n",
       "<style>\n",
       "    .dataframe thead tr:only-child th {\n",
       "        text-align: right;\n",
       "    }\n",
       "\n",
       "    .dataframe thead th {\n",
       "        text-align: left;\n",
       "    }\n",
       "\n",
       "    .dataframe tbody tr th {\n",
       "        vertical-align: top;\n",
       "    }\n",
       "</style>\n",
       "<table border=\"1\" class=\"dataframe\">\n",
       "  <thead>\n",
       "    <tr style=\"text-align: right;\">\n",
       "      <th></th>\n",
       "      <th>corn flour</th>\n",
       "      <th>sweet potato</th>\n",
       "      <th>mango</th>\n",
       "      <th>red pepper</th>\n",
       "      <th>red onions</th>\n",
       "      <th>coriander</th>\n",
       "      <th>oregano</th>\n",
       "      <th>cream</th>\n",
       "      <th>capers</th>\n",
       "      <th>red cabbage</th>\n",
       "      <th>...</th>\n",
       "      <th>sesame</th>\n",
       "      <th>eggplant</th>\n",
       "      <th>white basmati rice</th>\n",
       "      <th>lemon</th>\n",
       "      <th>zucchini</th>\n",
       "      <th>cucumber</th>\n",
       "      <th>potatoes</th>\n",
       "      <th>tomato</th>\n",
       "      <th>parsley</th>\n",
       "      <th>olive oil</th>\n",
       "    </tr>\n",
       "  </thead>\n",
       "  <tbody>\n",
       "    <tr>\n",
       "      <th>1378</th>\n",
       "      <td>2.793085</td>\n",
       "      <td>-0.672429</td>\n",
       "      <td>-0.709558</td>\n",
       "      <td>-0.722179</td>\n",
       "      <td>4.043970</td>\n",
       "      <td>1.118477</td>\n",
       "      <td>-0.876511</td>\n",
       "      <td>-0.211729</td>\n",
       "      <td>-0.671509</td>\n",
       "      <td>-0.845913</td>\n",
       "      <td>...</td>\n",
       "      <td>-1.124936</td>\n",
       "      <td>0.931213</td>\n",
       "      <td>-0.403845</td>\n",
       "      <td>-0.702925</td>\n",
       "      <td>-0.146294</td>\n",
       "      <td>-0.483232</td>\n",
       "      <td>-0.264342</td>\n",
       "      <td>0.719638</td>\n",
       "      <td>-0.478557</td>\n",
       "      <td>-1.713401</td>\n",
       "    </tr>\n",
       "    <tr>\n",
       "      <th>923</th>\n",
       "      <td>2.314939</td>\n",
       "      <td>-0.672429</td>\n",
       "      <td>-0.709558</td>\n",
       "      <td>-0.722179</td>\n",
       "      <td>-0.737171</td>\n",
       "      <td>0.360714</td>\n",
       "      <td>-0.876511</td>\n",
       "      <td>-0.949429</td>\n",
       "      <td>-0.671509</td>\n",
       "      <td>-0.845913</td>\n",
       "      <td>...</td>\n",
       "      <td>-0.339102</td>\n",
       "      <td>-1.162720</td>\n",
       "      <td>-1.134526</td>\n",
       "      <td>1.048155</td>\n",
       "      <td>-0.362550</td>\n",
       "      <td>2.631390</td>\n",
       "      <td>0.826737</td>\n",
       "      <td>0.334757</td>\n",
       "      <td>-0.673430</td>\n",
       "      <td>0.405060</td>\n",
       "    </tr>\n",
       "    <tr>\n",
       "      <th>59</th>\n",
       "      <td>-0.769877</td>\n",
       "      <td>-0.672429</td>\n",
       "      <td>2.578690</td>\n",
       "      <td>0.174860</td>\n",
       "      <td>-0.737171</td>\n",
       "      <td>0.088137</td>\n",
       "      <td>-0.436218</td>\n",
       "      <td>0.966674</td>\n",
       "      <td>0.191871</td>\n",
       "      <td>-0.173088</td>\n",
       "      <td>...</td>\n",
       "      <td>-0.339102</td>\n",
       "      <td>2.463138</td>\n",
       "      <td>0.288878</td>\n",
       "      <td>-1.087308</td>\n",
       "      <td>2.427843</td>\n",
       "      <td>-0.850402</td>\n",
       "      <td>-0.141677</td>\n",
       "      <td>-0.596407</td>\n",
       "      <td>-0.044808</td>\n",
       "      <td>0.405060</td>\n",
       "    </tr>\n",
       "    <tr>\n",
       "      <th>2076</th>\n",
       "      <td>-0.152914</td>\n",
       "      <td>-0.072333</td>\n",
       "      <td>-0.051908</td>\n",
       "      <td>-0.722179</td>\n",
       "      <td>-0.116243</td>\n",
       "      <td>-0.075409</td>\n",
       "      <td>0.180193</td>\n",
       "      <td>-0.566208</td>\n",
       "      <td>-0.671509</td>\n",
       "      <td>0.230607</td>\n",
       "      <td>...</td>\n",
       "      <td>0.427566</td>\n",
       "      <td>-1.162720</td>\n",
       "      <td>-0.375377</td>\n",
       "      <td>0.193970</td>\n",
       "      <td>-1.199668</td>\n",
       "      <td>0.858841</td>\n",
       "      <td>-0.980968</td>\n",
       "      <td>-0.906795</td>\n",
       "      <td>-1.176328</td>\n",
       "      <td>-0.654171</td>\n",
       "    </tr>\n",
       "  </tbody>\n",
       "</table>\n",
       "<p>4 rows × 975 columns</p>\n",
       "</div>"
      ],
      "text/plain": [
       "      corn flour  sweet potato     mango  red pepper  red onions  coriander  \\\n",
       "1378    2.793085     -0.672429 -0.709558   -0.722179    4.043970   1.118477   \n",
       "923     2.314939     -0.672429 -0.709558   -0.722179   -0.737171   0.360714   \n",
       "59     -0.769877     -0.672429  2.578690    0.174860   -0.737171   0.088137   \n",
       "2076   -0.152914     -0.072333 -0.051908   -0.722179   -0.116243  -0.075409   \n",
       "\n",
       "       oregano     cream    capers  red cabbage    ...        sesame  \\\n",
       "1378 -0.876511 -0.211729 -0.671509    -0.845913    ...     -1.124936   \n",
       "923  -0.876511 -0.949429 -0.671509    -0.845913    ...     -0.339102   \n",
       "59   -0.436218  0.966674  0.191871    -0.173088    ...     -0.339102   \n",
       "2076  0.180193 -0.566208 -0.671509     0.230607    ...      0.427566   \n",
       "\n",
       "      eggplant  white basmati rice     lemon  zucchini  cucumber  potatoes  \\\n",
       "1378  0.931213           -0.403845 -0.702925 -0.146294 -0.483232 -0.264342   \n",
       "923  -1.162720           -1.134526  1.048155 -0.362550  2.631390  0.826737   \n",
       "59    2.463138            0.288878 -1.087308  2.427843 -0.850402 -0.141677   \n",
       "2076 -1.162720           -0.375377  0.193970 -1.199668  0.858841 -0.980968   \n",
       "\n",
       "        tomato   parsley  olive oil  \n",
       "1378  0.719638 -0.478557  -1.713401  \n",
       "923   0.334757 -0.673430   0.405060  \n",
       "59   -0.596407 -0.044808   0.405060  \n",
       "2076 -0.906795 -1.176328  -0.654171  \n",
       "\n",
       "[4 rows x 975 columns]"
      ]
     },
     "execution_count": 25,
     "metadata": {},
     "output_type": "execute_result"
    }
   ],
   "source": [
    "## Exploring which ingredients are the most and least used\n",
    "cols = ing_freq.columns\n",
    "ing_means = ing_freq[cols].mean()  ## The variance in frequency would indicate strong preferences on ingredient\n",
    "top_ings = ing_means.sort_values().index.values[:]  ## Choosing the x ingredients with the most variance\n",
    "\n",
    "top_ing_f = ing_freq[top_ings]\n",
    "top_ing_f.sample(4)"
   ]
  },
  {
   "cell_type": "markdown",
   "metadata": {},
   "source": [
    "#### Kmeans clustering"
   ]
  },
  {
   "cell_type": "code",
   "execution_count": 34,
   "metadata": {},
   "outputs": [],
   "source": [
    "## Assinging the features to X\n",
    "X = top_ing_f.values\n",
    "\n",
    "## Kmeans object with cluster rows are clusters and cols are feature coords\n",
    "kmeans = KMeans(n_clusters=3, random_state=0, n_jobs=-1).fit(X)"
   ]
  },
  {
   "cell_type": "code",
   "execution_count": 35,
   "metadata": {},
   "outputs": [],
   "source": [
    "## Print the top words from each topic\n",
    "def print_top_ingredients(centroid_data, vocab, n_top_words):\n",
    "    \n",
    "    ## Getting sorted indexs of feature importance\n",
    "    sortedX = np.argsort(centroid_data, axis = 1)\n",
    "    \n",
    "    ## Printing top words in each 'topic'\n",
    "    for i, row in enumerate(sortedX[:, -1:-n_top_words-1:-1]):\n",
    "        print(\"Topic\", i,':', ', '.join([vocab[i] for i in row]))"
   ]
  },
  {
   "cell_type": "code",
   "execution_count": 36,
   "metadata": {},
   "outputs": [
    {
     "name": "stdout",
     "output_type": "stream",
     "text": [
      "Topic 0 : carrot, sugar, olive oil, zucchini, lemon, eggplant, yoghurt (dairy)\n",
      "Topic 1 : yogurt, chickpea, indian spices, carrots, curry, ground beef, lemonjuice\n",
      "Topic 2 : caramelized sugar, dextrose, bouillon, wheat protein, soy protein, roasted potatoes, banana\n"
     ]
    }
   ],
   "source": [
    "print_top_ingredients(kmeans.cluster_centers_, top_ings, 7)"
   ]
  },
  {
   "cell_type": "code",
   "execution_count": 37,
   "metadata": {},
   "outputs": [
    {
     "data": {
      "text/plain": [
       "[<matplotlib.lines.Line2D at 0x1a2cbc6908>]"
      ]
     },
     "execution_count": 37,
     "metadata": {},
     "output_type": "execute_result"
    },
    {
     "data": {
      "image/png": "[encoded data removed]",
      "text/plain": [
       "<matplotlib.figure.Figure at 0x1a1f953a20>"
      ]
     },
     "metadata": {
      "image/png": {
       "height": 277,
       "width": 393
      }
     },
     "output_type": "display_data"
    }
   ],
   "source": [
    "## Scoring Kmeans\n",
    "\n",
    "## Running kmeans\n",
    "def run_kmeans(data, n):\n",
    "    kmeans = KMeans(n_clusters=n, random_state=0, n_jobs=-1).fit(data)\n",
    "    \n",
    "    return silhouette_score(data, kmeans.labels_)\n",
    "\n",
    "\n",
    "## Finds the opitmal k value\n",
    "def find_k(data, k):\n",
    "    sil_scores = []\n",
    "    for i in range(2, k):\n",
    "        scores = (run_kmeans(data, i))\n",
    "        sil_scores.append(scores)\n",
    "        \n",
    "    return sil_scores \n",
    "\n",
    "sils = find_k(X, 10)\n",
    "\n",
    "plt.title(\"Silhouette Score vs Number of Clusters\")\n",
    "plt.ylabel(\"Silhouette Score\")\n",
    "plt.xlabel(\"Number of Clusters\")\n",
    "plt.grid()\n",
    "plt.plot(range(2, len(sils)+2), sils)"
   ]
  },
  {
   "cell_type": "markdown",
   "metadata": {},
   "source": [
    "#### Hierarchical Clustering"
   ]
  },
  {
   "cell_type": "code",
   "execution_count": 13,
   "metadata": {},
   "outputs": [],
   "source": [
    "def high_clustering(data, sample_size, dist_measure='cosine', plot='yes'):\n",
    "\n",
    "    ## Selecting n random customers to look at\n",
    "    trimmed_data = np.random.choice(range(data.shape[0]), sample_size)\n",
    "    X = data.iloc[trimmed_data]\n",
    "\n",
    "    ## Get vector distances (can be different measures) and squaring array\n",
    "    Y = pdist(X, 'cosine')\n",
    "    squareY = squareform(Y)\n",
    "\n",
    "    ## Creates the linkage matrix with \n",
    "    return linkage(squareY, 'average')\n",
    "\n",
    "## Plot the dendrogram\n",
    "def plot_dendro(Z, orient='top', thresh=None, font_s=20):\n",
    "    fig = plt.figure(figsize=(25, 10))\n",
    "    dn = dendrogram(Z)\n",
    "\n",
    "    section = np.array(dn[\"ivl\"]).astype(int)\n",
    "\n",
    "    dn = dendrogram(Z, \n",
    "                    orientation=orient,\n",
    "                    color_threshold=thresh,\n",
    "                    leaf_font_size=font_s)\n",
    "    plt.ylabel('Threshold')\n",
    "    plt.xlabel('User')\n",
    "    plt.title('User Ingredient Frequency Dendrogram')\n",
    "    plt.show()"
   ]
  },
  {
   "cell_type": "code",
   "execution_count": 14,
   "metadata": {},
   "outputs": [
    {
     "name": "stderr",
     "output_type": "stream",
     "text": [
      "/Users/nschumacher/anaconda/lib/python3.6/site-packages/ipykernel_launcher.py:12: ClusterWarning: scipy.cluster: The symmetric non-negative hollow observation matrix looks suspiciously like an uncondensed distance matrix\n",
      "  if sys.path[0] == '':\n"
     ]
    },
    {
     "data": {
      "image/png": "[encoded data removed]",
      "text/plain": [
       "<matplotlib.figure.Figure at 0x1a249b3198>"
      ]
     },
     "metadata": {
      "image/png": {
       "height": 606,
       "width": 1454
      }
     },
     "output_type": "display_data"
    }
   ],
   "source": [
    "linkage1 = high_clustering(top_ing_f, 100)\n",
    "plot_dendro(linkage1, orient='top', font_s=10)"
   ]
  },
  {
   "cell_type": "code",
   "execution_count": null,
   "metadata": {},
   "outputs": [],
   "source": []
  },
  {
   "cell_type": "code",
   "execution_count": null,
   "metadata": {},
   "outputs": [],
   "source": []
  }
 ],
 "metadata": {
  "kernelspec": {
   "display_name": "Python 3",
   "language": "python",
   "name": "python3"
  },
  "language_info": {
   "codemirror_mode": {
    "name": "ipython",
    "version": 3
   },
   "file_extension": ".py",
   "mimetype": "text/x-python",
   "name": "python",
   "nbconvert_exporter": "python",
   "pygments_lexer": "ipython3",
   "version": "3.6.8"
  }
 },
 "nbformat": 4,
 "nbformat_minor": 2
}
