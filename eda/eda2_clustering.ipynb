{
 "cells": [
  {
   "cell_type": "code",
   "execution_count": 207,
   "metadata": {},
   "outputs": [],
   "source": [
    "## Initialization and imports\n",
    "import pandas as pd \n",
    "import numpy as np \n",
    "\n",
    "from sklearn.cluster import KMeans\n",
    "from sklearn.metrics import silhouette_score\n",
    "\n",
    "from scipy.spatial.distance import pdist\n",
    "from scipy.spatial.distance import squareform\n",
    "from scipy.cluster.hierarchy import dendrogram, linkage\n",
    "\n",
    "from matplotlib import pyplot as plt\n",
    "%matplotlib inline  \n",
    "%config InlineBackend.figure_format='retina'\n",
    "\n",
    "## Set random seed\n",
    "np.random.seed(seed=14)"
   ]
  },
  {
   "cell_type": "code",
   "execution_count": 208,
   "metadata": {},
   "outputs": [
    {
     "data": {
      "text/html": [
       "<div>\n",
       "<style>\n",
       "    .dataframe thead tr:only-child th {\n",
       "        text-align: right;\n",
       "    }\n",
       "\n",
       "    .dataframe thead th {\n",
       "        text-align: left;\n",
       "    }\n",
       "\n",
       "    .dataframe tbody tr th {\n",
       "        vertical-align: top;\n",
       "    }\n",
       "</style>\n",
       "<table border=\"1\" class=\"dataframe\">\n",
       "  <thead>\n",
       "    <tr style=\"text-align: right;\">\n",
       "      <th></th>\n",
       "      <th>brie</th>\n",
       "      <th>herbs</th>\n",
       "      <th>pimientos de padron</th>\n",
       "      <th>goji berries</th>\n",
       "      <th>radish</th>\n",
       "      <th>date</th>\n",
       "      <th>almond milk</th>\n",
       "      <th>potato dumplings</th>\n",
       "      <th>chicken (corn fed)</th>\n",
       "      <th>pork sausage</th>\n",
       "      <th>...</th>\n",
       "      <th>wheat flour</th>\n",
       "      <th>zucchini</th>\n",
       "      <th>millet</th>\n",
       "      <th>organic red quinoa</th>\n",
       "      <th>white quinoa</th>\n",
       "      <th>mizuna lettuce</th>\n",
       "      <th>pumpkin</th>\n",
       "      <th>dried tomatoes</th>\n",
       "      <th>sweet chili sauce</th>\n",
       "      <th>cust_id</th>\n",
       "    </tr>\n",
       "  </thead>\n",
       "  <tbody>\n",
       "    <tr>\n",
       "      <th>2</th>\n",
       "      <td>0.0</td>\n",
       "      <td>0.222</td>\n",
       "      <td>0.0</td>\n",
       "      <td>0.0</td>\n",
       "      <td>0.0</td>\n",
       "      <td>0.0</td>\n",
       "      <td>0.0</td>\n",
       "      <td>0.0</td>\n",
       "      <td>0.0</td>\n",
       "      <td>0.0</td>\n",
       "      <td>...</td>\n",
       "      <td>0.222</td>\n",
       "      <td>0.222</td>\n",
       "      <td>0.0</td>\n",
       "      <td>0.0</td>\n",
       "      <td>0.0</td>\n",
       "      <td>0.0</td>\n",
       "      <td>0.0</td>\n",
       "      <td>0.0</td>\n",
       "      <td>0.0</td>\n",
       "      <td>0030N00002LQp1pQAD</td>\n",
       "    </tr>\n",
       "    <tr>\n",
       "      <th>34</th>\n",
       "      <td>0.0</td>\n",
       "      <td>0.000</td>\n",
       "      <td>0.0</td>\n",
       "      <td>0.0</td>\n",
       "      <td>0.0</td>\n",
       "      <td>0.0</td>\n",
       "      <td>0.0</td>\n",
       "      <td>0.0</td>\n",
       "      <td>0.0</td>\n",
       "      <td>0.0</td>\n",
       "      <td>...</td>\n",
       "      <td>0.000</td>\n",
       "      <td>0.000</td>\n",
       "      <td>0.0</td>\n",
       "      <td>0.0</td>\n",
       "      <td>0.0</td>\n",
       "      <td>0.0</td>\n",
       "      <td>0.0</td>\n",
       "      <td>0.0</td>\n",
       "      <td>0.0</td>\n",
       "      <td>0030N00002nQk4NQAS</td>\n",
       "    </tr>\n",
       "    <tr>\n",
       "      <th>39</th>\n",
       "      <td>0.0</td>\n",
       "      <td>0.000</td>\n",
       "      <td>0.0</td>\n",
       "      <td>0.0</td>\n",
       "      <td>0.0</td>\n",
       "      <td>0.0</td>\n",
       "      <td>0.0</td>\n",
       "      <td>0.0</td>\n",
       "      <td>0.0</td>\n",
       "      <td>0.0</td>\n",
       "      <td>...</td>\n",
       "      <td>0.200</td>\n",
       "      <td>0.200</td>\n",
       "      <td>0.0</td>\n",
       "      <td>0.0</td>\n",
       "      <td>0.0</td>\n",
       "      <td>0.0</td>\n",
       "      <td>0.0</td>\n",
       "      <td>0.0</td>\n",
       "      <td>0.0</td>\n",
       "      <td>0030N00002PriTRQAZ</td>\n",
       "    </tr>\n",
       "  </tbody>\n",
       "</table>\n",
       "<p>3 rows × 685 columns</p>\n",
       "</div>"
      ],
      "text/plain": [
       "    brie  herbs  pimientos de padron  goji berries  radish  date  almond milk  \\\n",
       "2    0.0  0.222                  0.0           0.0     0.0   0.0          0.0   \n",
       "34   0.0  0.000                  0.0           0.0     0.0   0.0          0.0   \n",
       "39   0.0  0.000                  0.0           0.0     0.0   0.0          0.0   \n",
       "\n",
       "    potato dumplings  chicken (corn fed)  pork sausage         ...          \\\n",
       "2                0.0                 0.0           0.0         ...           \n",
       "34               0.0                 0.0           0.0         ...           \n",
       "39               0.0                 0.0           0.0         ...           \n",
       "\n",
       "    wheat flour  zucchini  millet  organic red quinoa  white quinoa  \\\n",
       "2         0.222     0.222     0.0                 0.0           0.0   \n",
       "34        0.000     0.000     0.0                 0.0           0.0   \n",
       "39        0.200     0.200     0.0                 0.0           0.0   \n",
       "\n",
       "    mizuna lettuce  pumpkin  dried tomatoes  sweet chili sauce  \\\n",
       "2              0.0      0.0             0.0                0.0   \n",
       "34             0.0      0.0             0.0                0.0   \n",
       "39             0.0      0.0             0.0                0.0   \n",
       "\n",
       "               cust_id  \n",
       "2   0030N00002LQp1pQAD  \n",
       "34  0030N00002nQk4NQAS  \n",
       "39  0030N00002PriTRQAZ  \n",
       "\n",
       "[3 rows x 685 columns]"
      ]
     },
     "execution_count": 208,
     "metadata": {},
     "output_type": "execute_result"
    }
   ],
   "source": [
    "## Read in pickle data\n",
    "ing_freq = pd.read_pickle(\"../model/user_f_df.p\")\n",
    "ing_freq.sample(3)"
   ]
  },
  {
   "cell_type": "code",
   "execution_count": 209,
   "metadata": {},
   "outputs": [
    {
     "name": "stdout",
     "output_type": "stream",
     "text": [
      "<class 'pandas.core.frame.DataFrame'>\n",
      "Int64Index: 85 entries, 0 to 84\n",
      "Columns: 685 entries, brie to cust_id\n",
      "dtypes: float64(684), object(1)\n",
      "memory usage: 455.5+ KB\n"
     ]
    }
   ],
   "source": [
    "ing_freq.info()"
   ]
  },
  {
   "cell_type": "code",
   "execution_count": 210,
   "metadata": {},
   "outputs": [],
   "source": [
    "## Need to scale the features for clustering (distance metric)\n",
    "def scale_df(df):\n",
    "    for col in df.columns:\n",
    "        if col != 'cust_id':\n",
    "            df[col] = (df[col] - df[col].mean())/df[col].std()\n",
    "    return df\n",
    "        \n",
    "ing_freq = scale_df(ing_freq)"
   ]
  },
  {
   "cell_type": "code",
   "execution_count": 211,
   "metadata": {},
   "outputs": [
    {
     "data": {
      "text/html": [
       "<div>\n",
       "<style>\n",
       "    .dataframe thead tr:only-child th {\n",
       "        text-align: right;\n",
       "    }\n",
       "\n",
       "    .dataframe thead th {\n",
       "        text-align: left;\n",
       "    }\n",
       "\n",
       "    .dataframe tbody tr th {\n",
       "        vertical-align: top;\n",
       "    }\n",
       "</style>\n",
       "<table border=\"1\" class=\"dataframe\">\n",
       "  <thead>\n",
       "    <tr style=\"text-align: right;\">\n",
       "      <th></th>\n",
       "      <th>peanut flakes</th>\n",
       "      <th>japanese mayonnaise</th>\n",
       "      <th>bull's blood salad</th>\n",
       "      <th>perilla</th>\n",
       "      <th>japanese cress</th>\n",
       "      <th>alfa alfa sprouts</th>\n",
       "      <th>parmesan</th>\n",
       "      <th>groats</th>\n",
       "      <th>chipotle chili pepper</th>\n",
       "      <th>ox cheek</th>\n",
       "      <th>...</th>\n",
       "      <th>rice pudding (extra)</th>\n",
       "      <th>orange-curry dressing</th>\n",
       "      <th>red fruit jelly (extra)</th>\n",
       "      <th>homemade croutons (flour)</th>\n",
       "      <th>vegan pannacotta (coconut milk/ agar agar/ vanilla sugar / forest fruit mix)</th>\n",
       "      <th>truffles</th>\n",
       "      <th>cardamom</th>\n",
       "      <th>wild herbs</th>\n",
       "      <th>mustard herb</th>\n",
       "      <th>mushroom extract</th>\n",
       "    </tr>\n",
       "  </thead>\n",
       "  <tbody>\n",
       "    <tr>\n",
       "      <th>0</th>\n",
       "      <td>-0.154314</td>\n",
       "      <td>-0.154314</td>\n",
       "      <td>-0.154314</td>\n",
       "      <td>-0.154314</td>\n",
       "      <td>-0.154314</td>\n",
       "      <td>-0.154314</td>\n",
       "      <td>-0.194633</td>\n",
       "      <td>-0.154314</td>\n",
       "      <td>-0.154314</td>\n",
       "      <td>-0.118468</td>\n",
       "      <td>...</td>\n",
       "      <td>-0.108465</td>\n",
       "      <td>-0.108465</td>\n",
       "      <td>-0.108465</td>\n",
       "      <td>-0.108465</td>\n",
       "      <td>-0.220911</td>\n",
       "      <td>-0.108465</td>\n",
       "      <td>-0.108465</td>\n",
       "      <td>-0.108465</td>\n",
       "      <td>-0.108465</td>\n",
       "      <td>-0.108465</td>\n",
       "    </tr>\n",
       "    <tr>\n",
       "      <th>1</th>\n",
       "      <td>-0.154314</td>\n",
       "      <td>-0.154314</td>\n",
       "      <td>-0.154314</td>\n",
       "      <td>-0.154314</td>\n",
       "      <td>-0.154314</td>\n",
       "      <td>-0.154314</td>\n",
       "      <td>8.027893</td>\n",
       "      <td>-0.154314</td>\n",
       "      <td>-0.154314</td>\n",
       "      <td>-0.118468</td>\n",
       "      <td>...</td>\n",
       "      <td>9.111079</td>\n",
       "      <td>-0.108465</td>\n",
       "      <td>9.111079</td>\n",
       "      <td>9.111079</td>\n",
       "      <td>-0.220911</td>\n",
       "      <td>-0.108465</td>\n",
       "      <td>-0.108465</td>\n",
       "      <td>-0.108465</td>\n",
       "      <td>-0.108465</td>\n",
       "      <td>-0.108465</td>\n",
       "    </tr>\n",
       "    <tr>\n",
       "      <th>2</th>\n",
       "      <td>-0.154314</td>\n",
       "      <td>-0.154314</td>\n",
       "      <td>-0.154314</td>\n",
       "      <td>-0.154314</td>\n",
       "      <td>-0.154314</td>\n",
       "      <td>-0.154314</td>\n",
       "      <td>-0.194633</td>\n",
       "      <td>-0.154314</td>\n",
       "      <td>-0.154314</td>\n",
       "      <td>-0.118468</td>\n",
       "      <td>...</td>\n",
       "      <td>-0.108465</td>\n",
       "      <td>-0.108465</td>\n",
       "      <td>-0.108465</td>\n",
       "      <td>-0.108465</td>\n",
       "      <td>-0.220911</td>\n",
       "      <td>-0.108465</td>\n",
       "      <td>-0.108465</td>\n",
       "      <td>-0.108465</td>\n",
       "      <td>-0.108465</td>\n",
       "      <td>-0.108465</td>\n",
       "    </tr>\n",
       "    <tr>\n",
       "      <th>3</th>\n",
       "      <td>6.404043</td>\n",
       "      <td>6.404043</td>\n",
       "      <td>6.404043</td>\n",
       "      <td>6.404043</td>\n",
       "      <td>6.404043</td>\n",
       "      <td>6.404043</td>\n",
       "      <td>-0.194633</td>\n",
       "      <td>-0.154314</td>\n",
       "      <td>-0.154314</td>\n",
       "      <td>-0.118468</td>\n",
       "      <td>...</td>\n",
       "      <td>-0.108465</td>\n",
       "      <td>-0.108465</td>\n",
       "      <td>-0.108465</td>\n",
       "      <td>-0.108465</td>\n",
       "      <td>-0.220911</td>\n",
       "      <td>-0.108465</td>\n",
       "      <td>-0.108465</td>\n",
       "      <td>-0.108465</td>\n",
       "      <td>-0.108465</td>\n",
       "      <td>-0.108465</td>\n",
       "    </tr>\n",
       "  </tbody>\n",
       "</table>\n",
       "<p>4 rows × 684 columns</p>\n",
       "</div>"
      ],
      "text/plain": [
       "   peanut flakes  japanese mayonnaise  bull's blood salad   perilla  \\\n",
       "0      -0.154314            -0.154314           -0.154314 -0.154314   \n",
       "1      -0.154314            -0.154314           -0.154314 -0.154314   \n",
       "2      -0.154314            -0.154314           -0.154314 -0.154314   \n",
       "3       6.404043             6.404043            6.404043  6.404043   \n",
       "\n",
       "   japanese cress  alfa alfa sprouts  parmesan    groats  \\\n",
       "0       -0.154314          -0.154314 -0.194633 -0.154314   \n",
       "1       -0.154314          -0.154314  8.027893 -0.154314   \n",
       "2       -0.154314          -0.154314 -0.194633 -0.154314   \n",
       "3        6.404043           6.404043 -0.194633 -0.154314   \n",
       "\n",
       "   chipotle chili pepper  ox cheek        ...         rice pudding (extra)  \\\n",
       "0              -0.154314 -0.118468        ...                    -0.108465   \n",
       "1              -0.154314 -0.118468        ...                     9.111079   \n",
       "2              -0.154314 -0.118468        ...                    -0.108465   \n",
       "3              -0.154314 -0.118468        ...                    -0.108465   \n",
       "\n",
       "   orange-curry dressing  red fruit jelly (extra)  homemade croutons (flour)  \\\n",
       "0              -0.108465                -0.108465                  -0.108465   \n",
       "1              -0.108465                 9.111079                   9.111079   \n",
       "2              -0.108465                -0.108465                  -0.108465   \n",
       "3              -0.108465                -0.108465                  -0.108465   \n",
       "\n",
       "   vegan pannacotta (coconut milk/ agar agar/ vanilla sugar / forest fruit mix)  \\\n",
       "0                                          -0.220911                              \n",
       "1                                          -0.220911                              \n",
       "2                                          -0.220911                              \n",
       "3                                          -0.220911                              \n",
       "\n",
       "   truffles  cardamom  wild herbs  mustard herb  mushroom extract  \n",
       "0 -0.108465 -0.108465   -0.108465     -0.108465         -0.108465  \n",
       "1 -0.108465 -0.108465   -0.108465     -0.108465         -0.108465  \n",
       "2 -0.108465 -0.108465   -0.108465     -0.108465         -0.108465  \n",
       "3 -0.108465 -0.108465   -0.108465     -0.108465         -0.108465  \n",
       "\n",
       "[4 rows x 684 columns]"
      ]
     },
     "execution_count": 211,
     "metadata": {},
     "output_type": "execute_result"
    }
   ],
   "source": [
    "## Exploring which ingredients are the most and least used\n",
    "cols = ing_freq.columns\n",
    "ing_means = ing_freq[cols].var()  ## The variance in frequency would indicate strong preferences on ingredient\n",
    "top_ings = ing_means.sort_values().index.values[:]  ## Choosing the x ingredients with the most variance\n",
    "\n",
    "top_ing_f = ing_freq[top_ings]\n",
    "top_ing_f.head(4)"
   ]
  },
  {
   "cell_type": "markdown",
   "metadata": {},
   "source": [
    "#### Kmeans clustering"
   ]
  },
  {
   "cell_type": "code",
   "execution_count": 212,
   "metadata": {},
   "outputs": [
    {
     "data": {
      "text/plain": [
       "array([3, 1, 3, 3, 3, 3, 3, 3, 3, 3, 3, 3, 0, 1, 1, 1, 2, 2, 3, 3, 3, 0,\n",
       "       3, 0, 3, 3, 3, 3, 3, 3, 3, 3, 3, 3, 3, 1, 3, 2, 2, 3, 3, 3, 1, 3,\n",
       "       3, 1, 3, 3, 3, 3, 3, 1, 3, 0, 3, 3, 3, 3, 3, 3, 3, 3, 3, 3, 1, 1,\n",
       "       1, 3, 3, 3, 3, 3, 3, 3, 0, 3, 3, 3, 1, 3, 3, 3, 3, 3, 3],\n",
       "      dtype=int32)"
      ]
     },
     "execution_count": 212,
     "metadata": {},
     "output_type": "execute_result"
    }
   ],
   "source": [
    "## Assinging the features to X\n",
    "X = top_ing_f.values\n",
    "\n",
    "## Kmeans object with cluster rows are clusters and cols are feature coords\n",
    "kmeans = KMeans(n_clusters=4, random_state=0).fit(X)\n",
    "kmeans.labels_"
   ]
  },
  {
   "cell_type": "code",
   "execution_count": 213,
   "metadata": {},
   "outputs": [],
   "source": [
    "## Print the top words from each topic\n",
    "def print_top_ingredients(centroid_data, vocab, n_top_words):\n",
    "    \n",
    "    ## Getting sorted indexs of feature importance\n",
    "    sortedX = np.argsort(centroid_data, axis = 1)\n",
    "    \n",
    "    ## Printing top words in each 'topic'\n",
    "    for i, row in enumerate(sortedX[:, -1:-n_top_words-1:-1]):\n",
    "        print(\"Topic\", i,':', ', '.join([vocab[i] for i in row]))"
   ]
  },
  {
   "cell_type": "code",
   "execution_count": 214,
   "metadata": {},
   "outputs": [
    {
     "name": "stdout",
     "output_type": "stream",
     "text": [
      "Topic 0 : pork loin, norwegian salmon, islandic salmon, bay leaf, star anise, meat juice, ground pork\n",
      "Topic 1 : cranberry, dijon mustard, spring onions, breadcrumbs, goji berries, quark, black sesame\n",
      "Topic 2 : chicken thigh, gruyère cheese, bayleaf, sheep cheese, tomato puree, minced meat (beef), tahini\n",
      "Topic 3 : tomato, sesame oil, sesame, yoghurt (dairy), coriander, rocket, romaine lettuce\n"
     ]
    }
   ],
   "source": [
    "print_top_ingredients(kmeans.cluster_centers_, top_ings, 7)"
   ]
  },
  {
   "cell_type": "code",
   "execution_count": 215,
   "metadata": {},
   "outputs": [
    {
     "data": {
      "text/plain": [
       "[<matplotlib.lines.Line2D at 0x1a2bcb6eb8>]"
      ]
     },
     "execution_count": 215,
     "metadata": {},
     "output_type": "execute_result"
    },
    {
     "data": {
      "image/png": "[encoded data removed]",
      "text/plain": [
       "<matplotlib.figure.Figure at 0x1a2ee7c748>"
      ]
     },
     "metadata": {
      "image/png": {
       "height": 277,
       "width": 393
      }
     },
     "output_type": "display_data"
    }
   ],
   "source": [
    "## Scoring Kmeans\n",
    "\n",
    "## Running kmeans\n",
    "def run_kmeans(data, n):\n",
    "    kmeans = KMeans(n_clusters=n, random_state=0).fit(data)\n",
    "    \n",
    "    return silhouette_score(data, kmeans.labels_)\n",
    "\n",
    "\n",
    "## Finds the opitmal k value\n",
    "def find_k(data, k):\n",
    "    sil_scores = []\n",
    "    for i in range(2, k):\n",
    "        scores = (run_kmeans(data, i))\n",
    "        sil_scores.append(scores)\n",
    "        \n",
    "    return sil_scores \n",
    "\n",
    "sils = find_k(X, 10)\n",
    "\n",
    "plt.title(\"Silhouette Score vs Number of Clusters\")\n",
    "plt.ylabel(\"Silhouette Score\")\n",
    "plt.xlabel(\"Number of Clusters\")\n",
    "plt.grid()\n",
    "plt.plot(range(2, len(sils)+2), sils)"
   ]
  },
  {
   "cell_type": "markdown",
   "metadata": {},
   "source": [
    "#### Hierarchical Clustering"
   ]
  },
  {
   "cell_type": "code",
   "execution_count": 216,
   "metadata": {},
   "outputs": [],
   "source": [
    "def high_clustering(data, sample_size, dist_measure='cosine', plot='yes'):\n",
    "\n",
    "    ## Selecting n random customers to look at\n",
    "    trimmed_data = np.random.choice(range(data.shape[0]), sample_size)\n",
    "    X = data.iloc[trimmed_data]\n",
    "\n",
    "    ## Get vector distances (can be different measures) and squaring array\n",
    "    Y = pdist(X, 'cosine')\n",
    "    squareY = squareform(Y)\n",
    "\n",
    "    ## Creates the linkage matrix with \n",
    "    return linkage(squareY, 'average')\n",
    "\n",
    "## Plot the dendrogram\n",
    "def plot_dendro(Z, orient='top', thresh=None, font_s=20):\n",
    "    fig = plt.figure(figsize=(25, 10))\n",
    "    dn = dendrogram(Z)\n",
    "\n",
    "    section = np.array(dn[\"ivl\"]).astype(int)\n",
    "\n",
    "    dn = dendrogram(Z, \n",
    "                    orientation=orient,\n",
    "                    color_threshold=thresh,\n",
    "                    leaf_font_size=font_s)\n",
    "    plt.ylabel('Threshold')\n",
    "    plt.xlabel('User')\n",
    "    plt.title('User Ingredient Frequency Dendrogram')\n",
    "    plt.show()"
   ]
  },
  {
   "cell_type": "code",
   "execution_count": 217,
   "metadata": {},
   "outputs": [
    {
     "name": "stderr",
     "output_type": "stream",
     "text": [
      "/Users/nschumacher/anaconda/lib/python3.6/site-packages/ipykernel_launcher.py:12: ClusterWarning: scipy.cluster: The symmetric non-negative hollow observation matrix looks suspiciously like an uncondensed distance matrix\n",
      "  if sys.path[0] == '':\n"
     ]
    },
    {
     "data": {
      "image/png": "[encoded data removed]",
      "text/plain": [
       "<matplotlib.figure.Figure at 0x1a2bbc1390>"
      ]
     },
     "metadata": {
      "image/png": {
       "height": 606,
       "width": 1447
      }
     },
     "output_type": "display_data"
    }
   ],
   "source": [
    "linkage1 = high_clustering(top_ing_f, 100, dist_measure='city_block')\n",
    "plot_dendro(linkage1, orient='top', font_s=10)"
   ]
  },
  {
   "cell_type": "code",
   "execution_count": null,
   "metadata": {},
   "outputs": [],
   "source": []
  },
  {
   "cell_type": "code",
   "execution_count": null,
   "metadata": {},
   "outputs": [],
   "source": []
  }
 ],
 "metadata": {
  "kernelspec": {
   "display_name": "Python 3",
   "language": "python",
   "name": "python3"
  },
  "language_info": {
   "codemirror_mode": {
    "name": "ipython",
    "version": 3
   },
   "file_extension": ".py",
   "mimetype": "text/x-python",
   "name": "python",
   "nbconvert_exporter": "python",
   "pygments_lexer": "ipython3",
   "version": "3.6.8"
  }
 },
 "nbformat": 4,
 "nbformat_minor": 2
}
