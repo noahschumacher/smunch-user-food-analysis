{
 "cells": [
  {
   "cell_type": "code",
   "execution_count": 24,
   "metadata": {},
   "outputs": [],
   "source": [
    "import pandas as pd\n",
    "import matplotlib.pyplot as plt\n",
    "import numpy as np\n",
    "import seaborn as sns\n",
    "\n",
    "import psycopg2\n",
    "\n",
    "%matplotlib inline  \n",
    "%config InlineBackend.figure_format='retina'"
   ]
  },
  {
   "cell_type": "code",
   "execution_count": 2,
   "metadata": {},
   "outputs": [],
   "source": [
    "## Function connects to Smunch DB and runs SQL querry returning a DataFrame\n",
    "def run_sql_query(query):\n",
    "\n",
    "    with open('../private/db_info.txt') as f:\n",
    "        content = f.readlines()\n",
    "    content = [x.strip('\\n') for x in content]\n",
    "    \n",
    "    conn = psycopg2.connect(dbname=content[0], user=content[1], host=content[2],\n",
    "                           port=content[3], password=content[4])\n",
    "    \n",
    "    df = pd.io.sql.read_sql_query(query, conn)\n",
    "    return df"
   ]
  },
  {
   "cell_type": "code",
   "execution_count": 3,
   "metadata": {},
   "outputs": [],
   "source": [
    "## Reading in noah tables\n",
    "orders = run_sql_query(\"Select * from noah.orders\")\n",
    "meal_ingrds = run_sql_query(\"Select * from noah.meal_ingredients\")\n",
    "ingrds = run_sql_query(\"Select * from noah.ingredients\")"
   ]
  },
  {
   "cell_type": "code",
   "execution_count": 4,
   "metadata": {},
   "outputs": [
    {
     "data": {
      "text/html": [
       "<div>\n",
       "<style>\n",
       "    .dataframe thead tr:only-child th {\n",
       "        text-align: right;\n",
       "    }\n",
       "\n",
       "    .dataframe thead th {\n",
       "        text-align: left;\n",
       "    }\n",
       "\n",
       "    .dataframe tbody tr th {\n",
       "        vertical-align: top;\n",
       "    }\n",
       "</style>\n",
       "<table border=\"1\" class=\"dataframe\">\n",
       "  <thead>\n",
       "    <tr style=\"text-align: right;\">\n",
       "      <th></th>\n",
       "      <th>cust_id</th>\n",
       "      <th>meal_id</th>\n",
       "      <th>meal_name</th>\n",
       "      <th>meal_rating</th>\n",
       "    </tr>\n",
       "  </thead>\n",
       "  <tbody>\n",
       "    <tr>\n",
       "      <th>60469</th>\n",
       "      <td>0030N00002LQqF9QAL</td>\n",
       "      <td>a050N00000zZfyrQAC</td>\n",
       "      <td>Grilled Stuffed Aubergine 'Betenjan Khudar',</td>\n",
       "      <td>NaN</td>\n",
       "    </tr>\n",
       "    <tr>\n",
       "      <th>31826</th>\n",
       "      <td>0030N00002jFfpRQAS</td>\n",
       "      <td>a050N000014ziDHQAY</td>\n",
       "      <td>Caprese Bagel with Pesto</td>\n",
       "      <td>NaN</td>\n",
       "    </tr>\n",
       "  </tbody>\n",
       "</table>\n",
       "</div>"
      ],
      "text/plain": [
       "                  cust_id             meal_id  \\\n",
       "60469  0030N00002LQqF9QAL  a050N00000zZfyrQAC   \n",
       "31826  0030N00002jFfpRQAS  a050N000014ziDHQAY   \n",
       "\n",
       "                                          meal_name  meal_rating  \n",
       "60469  Grilled Stuffed Aubergine 'Betenjan Khudar',          NaN  \n",
       "31826                      Caprese Bagel with Pesto          NaN  "
      ]
     },
     "execution_count": 4,
     "metadata": {},
     "output_type": "execute_result"
    }
   ],
   "source": [
    "orders.sample(2)"
   ]
  },
  {
   "cell_type": "code",
   "execution_count": 5,
   "metadata": {},
   "outputs": [
    {
     "data": {
      "text/html": [
       "<div>\n",
       "<style>\n",
       "    .dataframe thead tr:only-child th {\n",
       "        text-align: right;\n",
       "    }\n",
       "\n",
       "    .dataframe thead th {\n",
       "        text-align: left;\n",
       "    }\n",
       "\n",
       "    .dataframe tbody tr th {\n",
       "        vertical-align: top;\n",
       "    }\n",
       "</style>\n",
       "<table border=\"1\" class=\"dataframe\">\n",
       "  <thead>\n",
       "    <tr style=\"text-align: right;\">\n",
       "      <th></th>\n",
       "      <th>meal_id</th>\n",
       "      <th>ingredient_id</th>\n",
       "    </tr>\n",
       "  </thead>\n",
       "  <tbody>\n",
       "    <tr>\n",
       "      <th>11974</th>\n",
       "      <td>a050N00001518bbQAA</td>\n",
       "      <td>a070N00001PJENqQAP</td>\n",
       "    </tr>\n",
       "    <tr>\n",
       "      <th>4455</th>\n",
       "      <td>a050N00000zZg4OQAS</td>\n",
       "      <td>a070N00001DLLeKQAX</td>\n",
       "    </tr>\n",
       "  </tbody>\n",
       "</table>\n",
       "</div>"
      ],
      "text/plain": [
       "                  meal_id       ingredient_id\n",
       "11974  a050N00001518bbQAA  a070N00001PJENqQAP\n",
       "4455   a050N00000zZg4OQAS  a070N00001DLLeKQAX"
      ]
     },
     "execution_count": 5,
     "metadata": {},
     "output_type": "execute_result"
    }
   ],
   "source": [
    "meal_ingrds.sample(2)"
   ]
  },
  {
   "cell_type": "code",
   "execution_count": 6,
   "metadata": {},
   "outputs": [
    {
     "data": {
      "text/html": [
       "<div>\n",
       "<style>\n",
       "    .dataframe thead tr:only-child th {\n",
       "        text-align: right;\n",
       "    }\n",
       "\n",
       "    .dataframe thead th {\n",
       "        text-align: left;\n",
       "    }\n",
       "\n",
       "    .dataframe tbody tr th {\n",
       "        vertical-align: top;\n",
       "    }\n",
       "</style>\n",
       "<table border=\"1\" class=\"dataframe\">\n",
       "  <thead>\n",
       "    <tr style=\"text-align: right;\">\n",
       "      <th></th>\n",
       "      <th>ingredient_id</th>\n",
       "      <th>name</th>\n",
       "    </tr>\n",
       "  </thead>\n",
       "  <tbody>\n",
       "    <tr>\n",
       "      <th>1334</th>\n",
       "      <td>a060N00002hDL8tQAG</td>\n",
       "      <td>Chickpea Salad</td>\n",
       "    </tr>\n",
       "    <tr>\n",
       "      <th>570</th>\n",
       "      <td>a060N00002XMfcVQAT</td>\n",
       "      <td>salmon ceviche</td>\n",
       "    </tr>\n",
       "  </tbody>\n",
       "</table>\n",
       "</div>"
      ],
      "text/plain": [
       "           ingredient_id            name\n",
       "1334  a060N00002hDL8tQAG  Chickpea Salad\n",
       "570   a060N00002XMfcVQAT  salmon ceviche"
      ]
     },
     "execution_count": 6,
     "metadata": {},
     "output_type": "execute_result"
    }
   ],
   "source": [
    "ingrds.sample(2)"
   ]
  },
  {
   "cell_type": "code",
   "execution_count": 7,
   "metadata": {},
   "outputs": [
    {
     "data": {
      "text/html": [
       "<div>\n",
       "<style>\n",
       "    .dataframe thead tr:only-child th {\n",
       "        text-align: right;\n",
       "    }\n",
       "\n",
       "    .dataframe thead th {\n",
       "        text-align: left;\n",
       "    }\n",
       "\n",
       "    .dataframe tbody tr th {\n",
       "        vertical-align: top;\n",
       "    }\n",
       "</style>\n",
       "<table border=\"1\" class=\"dataframe\">\n",
       "  <thead>\n",
       "    <tr style=\"text-align: right;\">\n",
       "      <th></th>\n",
       "      <th>meal_count</th>\n",
       "    </tr>\n",
       "    <tr>\n",
       "      <th>cust_id</th>\n",
       "      <th></th>\n",
       "    </tr>\n",
       "  </thead>\n",
       "  <tbody>\n",
       "    <tr>\n",
       "      <th>0030N00002eWDDpQAO</th>\n",
       "      <td>17</td>\n",
       "    </tr>\n",
       "    <tr>\n",
       "      <th>0030N00002LQp6PQAT</th>\n",
       "      <td>94</td>\n",
       "    </tr>\n",
       "    <tr>\n",
       "      <th>0030N00002oRYQUQA4</th>\n",
       "      <td>9</td>\n",
       "    </tr>\n",
       "  </tbody>\n",
       "</table>\n",
       "</div>"
      ],
      "text/plain": [
       "                    meal_count\n",
       "cust_id                       \n",
       "0030N00002eWDDpQAO          17\n",
       "0030N00002LQp6PQAT          94\n",
       "0030N00002oRYQUQA4           9"
      ]
     },
     "execution_count": 7,
     "metadata": {},
     "output_type": "execute_result"
    }
   ],
   "source": [
    "## Getting the inngredient ids\n",
    "ig_ids = ingrds.ingredient_id.values\n",
    "\n",
    "## Get the tot count of orders for every user\n",
    "cust_order_count = pd.DataFrame(orders.groupby('cust_id')['meal_id'].count())\n",
    "cust_order_count.columns = ['meal_count']\n",
    "cust_order_count.sample(3)"
   ]
  },
  {
   "cell_type": "code",
   "execution_count": 33,
   "metadata": {},
   "outputs": [
    {
     "data": {
      "text/html": [
       "<div>\n",
       "<style>\n",
       "    .dataframe thead tr:only-child th {\n",
       "        text-align: right;\n",
       "    }\n",
       "\n",
       "    .dataframe thead th {\n",
       "        text-align: left;\n",
       "    }\n",
       "\n",
       "    .dataframe tbody tr th {\n",
       "        vertical-align: top;\n",
       "    }\n",
       "</style>\n",
       "<table border=\"1\" class=\"dataframe\">\n",
       "  <thead>\n",
       "    <tr style=\"text-align: right;\">\n",
       "      <th></th>\n",
       "      <th>meal_count</th>\n",
       "    </tr>\n",
       "  </thead>\n",
       "  <tbody>\n",
       "    <tr>\n",
       "      <th>count</th>\n",
       "      <td>9838.000000</td>\n",
       "    </tr>\n",
       "    <tr>\n",
       "      <th>mean</th>\n",
       "      <td>26.111608</td>\n",
       "    </tr>\n",
       "    <tr>\n",
       "      <th>std</th>\n",
       "      <td>40.874406</td>\n",
       "    </tr>\n",
       "    <tr>\n",
       "      <th>min</th>\n",
       "      <td>1.000000</td>\n",
       "    </tr>\n",
       "    <tr>\n",
       "      <th>25%</th>\n",
       "      <td>3.000000</td>\n",
       "    </tr>\n",
       "    <tr>\n",
       "      <th>50%</th>\n",
       "      <td>10.000000</td>\n",
       "    </tr>\n",
       "    <tr>\n",
       "      <th>75%</th>\n",
       "      <td>30.000000</td>\n",
       "    </tr>\n",
       "    <tr>\n",
       "      <th>max</th>\n",
       "      <td>519.000000</td>\n",
       "    </tr>\n",
       "  </tbody>\n",
       "</table>\n",
       "</div>"
      ],
      "text/plain": [
       "        meal_count\n",
       "count  9838.000000\n",
       "mean     26.111608\n",
       "std      40.874406\n",
       "min       1.000000\n",
       "25%       3.000000\n",
       "50%      10.000000\n",
       "75%      30.000000\n",
       "max     519.000000"
      ]
     },
     "execution_count": 33,
     "metadata": {},
     "output_type": "execute_result"
    }
   ],
   "source": [
    "cust_order_count.describe()"
   ]
  },
  {
   "cell_type": "code",
   "execution_count": 51,
   "metadata": {},
   "outputs": [
    {
     "name": "stdout",
     "output_type": "stream",
     "text": [
      "1374 of customer have ordered  1 times. 13.97%\n",
      " 737 of customer have ordered  2 times. 7.49%\n",
      " 578 of customer have ordered  3 times. 5.88%\n",
      " 483 of customer have ordered  4 times. 4.91%\n",
      " 395 of customer have ordered  5 times. 4.02%\n",
      " 329 of customer have ordered  6 times. 3.34%\n",
      " 251 of customer have ordered  7 times. 2.55%\n",
      " 296 of customer have ordered  8 times. 3.01%\n",
      " 244 of customer have ordered  9 times. 2.48%\n",
      "Make up 47.64% of total user base.\n"
     ]
    }
   ],
   "source": [
    "meal_c = cust_order_count.meal_count.values\n",
    "tot_p = 0\n",
    "for i in range(1,10):\n",
    "    c = (meal_c == i).sum()\n",
    "    percent = c / len(meal_c)\n",
    "    tot_p += percent\n",
    "    print(\"{0:4d} of customer have ordered {1:2d} times. {2:2.2f}%\".format(c, i, percent*100))\n",
    "print(\"Make up {0:2.2f}% of total user base.\".format(tot_p*100))"
   ]
  },
  {
   "cell_type": "code",
   "execution_count": 61,
   "metadata": {},
   "outputs": [
    {
     "data": {
      "image/png": "[encoded data removed]",
      "text/plain": [
       "<matplotlib.figure.Figure at 0x122ff23c8>"
      ]
     },
     "metadata": {
      "image/png": {
       "height": 277,
       "width": 384
      }
     },
     "output_type": "display_data"
    }
   ],
   "source": [
    "## Plot % ordered\n",
    "tot_p = [(meal_c == 0).sum() / len(meal_c)]\n",
    "for i in range(1,125):\n",
    "    c = (meal_c == i).sum()\n",
    "    percent = c / len(meal_c)\n",
    "    tot_p.append(percent + tot_p[i-1])\n",
    "    \n",
    "plt.plot(np.arange(0,125), tot_p)\n",
    "plt.title(\"% of Customer who have ordered x or less meals.\")\n",
    "plt.xlabel(\"Number of meals ordered.\")\n",
    "plt.ylabel(\"% of Customers\")\n",
    "plt.show()"
   ]
  },
  {
   "cell_type": "code",
   "execution_count": 23,
   "metadata": {},
   "outputs": [
    {
     "data": {
      "image/png": "[encoded data removed]",
      "text/plain": [
       "<matplotlib.figure.Figure at 0x125027ac8>"
      ]
     },
     "metadata": {
      "image/png": {
       "height": 250,
       "width": 383
      }
     },
     "output_type": "display_data"
    }
   ],
   "source": [
    "## Inspecting the breakdown of user order count\n",
    "counts = cust_order_count.meal_count.values\n",
    "plt.hist(counts, bins=200)\n",
    "plt.xlim(0,125)\n",
    "plt.grid()\n",
    "plt.minorticks_on()\n",
    "plt.show()"
   ]
  },
  {
   "cell_type": "code",
   "execution_count": 28,
   "metadata": {},
   "outputs": [
    {
     "data": {
      "text/plain": [
       "<matplotlib.text.Text at 0x1250bfc18>"
      ]
     },
     "execution_count": 28,
     "metadata": {},
     "output_type": "execute_result"
    },
    {
     "data": {
      "image/png": "[encoded data removed]",
      "text/plain": [
       "<matplotlib.figure.Figure at 0x1230fe048>"
      ]
     },
     "metadata": {
      "image/png": {
       "height": 277,
       "width": 360
      }
     },
     "output_type": "display_data"
    }
   ],
   "source": [
    "## Box plot of number of orders per customer\n",
    "sns.boxplot(counts)\n",
    "plt.xlim(0,200)\n",
    "plt.xlabel('Number of Orders')\n",
    "plt.title(\"Count of Order per Customer\")"
   ]
  },
  {
   "cell_type": "code",
   "execution_count": 103,
   "metadata": {},
   "outputs": [
    {
     "data": {
      "text/html": [
       "<div>\n",
       "<style>\n",
       "    .dataframe thead tr:only-child th {\n",
       "        text-align: right;\n",
       "    }\n",
       "\n",
       "    .dataframe thead th {\n",
       "        text-align: left;\n",
       "    }\n",
       "\n",
       "    .dataframe tbody tr th {\n",
       "        vertical-align: top;\n",
       "    }\n",
       "</style>\n",
       "<table border=\"1\" class=\"dataframe\">\n",
       "  <thead>\n",
       "    <tr style=\"text-align: right;\">\n",
       "      <th></th>\n",
       "      <th>meal_count</th>\n",
       "      <th>a060N00002SBGVBQA5</th>\n",
       "      <th>a060N00002gML0pQAG</th>\n",
       "      <th>a060N00002SBNSAQA5</th>\n",
       "      <th>a060N00002SBNSPQA5</th>\n",
       "      <th>a060N00002gMKqdQAG</th>\n",
       "      <th>a060N00002SBGUoQAP</th>\n",
       "      <th>a060N00002eo72UQAQ</th>\n",
       "      <th>a060N00002XMfXTQA1</th>\n",
       "      <th>a060N00002TE1AaQAL</th>\n",
       "      <th>...</th>\n",
       "      <th>a060N00002hWTiNQAW</th>\n",
       "      <th>a060N00002hWTrOQAW</th>\n",
       "      <th>a060N00002hWZZaQAO</th>\n",
       "      <th>a060N00002hWZZfQAO</th>\n",
       "      <th>a060N00002hWZZkQAO</th>\n",
       "      <th>a060N00002hWZkxQAG</th>\n",
       "      <th>a060N00002hWZlMQAW</th>\n",
       "      <th>a060N00002hWdROQA0</th>\n",
       "      <th>a060N00002hWdV2QAK</th>\n",
       "      <th>a060N00002hW5sdQAC</th>\n",
       "    </tr>\n",
       "    <tr>\n",
       "      <th>cust_id</th>\n",
       "      <th></th>\n",
       "      <th></th>\n",
       "      <th></th>\n",
       "      <th></th>\n",
       "      <th></th>\n",
       "      <th></th>\n",
       "      <th></th>\n",
       "      <th></th>\n",
       "      <th></th>\n",
       "      <th></th>\n",
       "      <th></th>\n",
       "      <th></th>\n",
       "      <th></th>\n",
       "      <th></th>\n",
       "      <th></th>\n",
       "      <th></th>\n",
       "      <th></th>\n",
       "      <th></th>\n",
       "      <th></th>\n",
       "      <th></th>\n",
       "      <th></th>\n",
       "    </tr>\n",
       "  </thead>\n",
       "  <tbody>\n",
       "    <tr>\n",
       "      <th>0030N00002LQq4ZQAT</th>\n",
       "      <td>3</td>\n",
       "      <td>0</td>\n",
       "      <td>0</td>\n",
       "      <td>0</td>\n",
       "      <td>0</td>\n",
       "      <td>0</td>\n",
       "      <td>0</td>\n",
       "      <td>0</td>\n",
       "      <td>0</td>\n",
       "      <td>0</td>\n",
       "      <td>...</td>\n",
       "      <td>0</td>\n",
       "      <td>0</td>\n",
       "      <td>0</td>\n",
       "      <td>0</td>\n",
       "      <td>0</td>\n",
       "      <td>0</td>\n",
       "      <td>0</td>\n",
       "      <td>0</td>\n",
       "      <td>0</td>\n",
       "      <td>0</td>\n",
       "    </tr>\n",
       "    <tr>\n",
       "      <th>0030N00002oRGn5QAG</th>\n",
       "      <td>23</td>\n",
       "      <td>0</td>\n",
       "      <td>0</td>\n",
       "      <td>0</td>\n",
       "      <td>0</td>\n",
       "      <td>0</td>\n",
       "      <td>0</td>\n",
       "      <td>0</td>\n",
       "      <td>0</td>\n",
       "      <td>0</td>\n",
       "      <td>...</td>\n",
       "      <td>0</td>\n",
       "      <td>0</td>\n",
       "      <td>0</td>\n",
       "      <td>0</td>\n",
       "      <td>0</td>\n",
       "      <td>0</td>\n",
       "      <td>0</td>\n",
       "      <td>0</td>\n",
       "      <td>0</td>\n",
       "      <td>0</td>\n",
       "    </tr>\n",
       "    <tr>\n",
       "      <th>0030N00002Wx04qQAB</th>\n",
       "      <td>15</td>\n",
       "      <td>0</td>\n",
       "      <td>0</td>\n",
       "      <td>0</td>\n",
       "      <td>0</td>\n",
       "      <td>0</td>\n",
       "      <td>0</td>\n",
       "      <td>0</td>\n",
       "      <td>0</td>\n",
       "      <td>0</td>\n",
       "      <td>...</td>\n",
       "      <td>0</td>\n",
       "      <td>0</td>\n",
       "      <td>0</td>\n",
       "      <td>0</td>\n",
       "      <td>0</td>\n",
       "      <td>0</td>\n",
       "      <td>0</td>\n",
       "      <td>0</td>\n",
       "      <td>0</td>\n",
       "      <td>0</td>\n",
       "    </tr>\n",
       "    <tr>\n",
       "      <th>0030N00002TZoQwQAL</th>\n",
       "      <td>4</td>\n",
       "      <td>0</td>\n",
       "      <td>0</td>\n",
       "      <td>0</td>\n",
       "      <td>0</td>\n",
       "      <td>0</td>\n",
       "      <td>0</td>\n",
       "      <td>0</td>\n",
       "      <td>0</td>\n",
       "      <td>0</td>\n",
       "      <td>...</td>\n",
       "      <td>0</td>\n",
       "      <td>0</td>\n",
       "      <td>0</td>\n",
       "      <td>0</td>\n",
       "      <td>0</td>\n",
       "      <td>0</td>\n",
       "      <td>0</td>\n",
       "      <td>0</td>\n",
       "      <td>0</td>\n",
       "      <td>0</td>\n",
       "    </tr>\n",
       "  </tbody>\n",
       "</table>\n",
       "<p>4 rows × 1415 columns</p>\n",
       "</div>"
      ],
      "text/plain": [
       "                    meal_count  a060N00002SBGVBQA5  a060N00002gML0pQAG  \\\n",
       "cust_id                                                                  \n",
       "0030N00002LQq4ZQAT           3                   0                   0   \n",
       "0030N00002oRGn5QAG          23                   0                   0   \n",
       "0030N00002Wx04qQAB          15                   0                   0   \n",
       "0030N00002TZoQwQAL           4                   0                   0   \n",
       "\n",
       "                    a060N00002SBNSAQA5  a060N00002SBNSPQA5  \\\n",
       "cust_id                                                      \n",
       "0030N00002LQq4ZQAT                   0                   0   \n",
       "0030N00002oRGn5QAG                   0                   0   \n",
       "0030N00002Wx04qQAB                   0                   0   \n",
       "0030N00002TZoQwQAL                   0                   0   \n",
       "\n",
       "                    a060N00002gMKqdQAG  a060N00002SBGUoQAP  \\\n",
       "cust_id                                                      \n",
       "0030N00002LQq4ZQAT                   0                   0   \n",
       "0030N00002oRGn5QAG                   0                   0   \n",
       "0030N00002Wx04qQAB                   0                   0   \n",
       "0030N00002TZoQwQAL                   0                   0   \n",
       "\n",
       "                    a060N00002eo72UQAQ  a060N00002XMfXTQA1  \\\n",
       "cust_id                                                      \n",
       "0030N00002LQq4ZQAT                   0                   0   \n",
       "0030N00002oRGn5QAG                   0                   0   \n",
       "0030N00002Wx04qQAB                   0                   0   \n",
       "0030N00002TZoQwQAL                   0                   0   \n",
       "\n",
       "                    a060N00002TE1AaQAL         ...          \\\n",
       "cust_id                                        ...           \n",
       "0030N00002LQq4ZQAT                   0         ...           \n",
       "0030N00002oRGn5QAG                   0         ...           \n",
       "0030N00002Wx04qQAB                   0         ...           \n",
       "0030N00002TZoQwQAL                   0         ...           \n",
       "\n",
       "                    a060N00002hWTiNQAW  a060N00002hWTrOQAW  \\\n",
       "cust_id                                                      \n",
       "0030N00002LQq4ZQAT                   0                   0   \n",
       "0030N00002oRGn5QAG                   0                   0   \n",
       "0030N00002Wx04qQAB                   0                   0   \n",
       "0030N00002TZoQwQAL                   0                   0   \n",
       "\n",
       "                    a060N00002hWZZaQAO  a060N00002hWZZfQAO  \\\n",
       "cust_id                                                      \n",
       "0030N00002LQq4ZQAT                   0                   0   \n",
       "0030N00002oRGn5QAG                   0                   0   \n",
       "0030N00002Wx04qQAB                   0                   0   \n",
       "0030N00002TZoQwQAL                   0                   0   \n",
       "\n",
       "                    a060N00002hWZZkQAO  a060N00002hWZkxQAG  \\\n",
       "cust_id                                                      \n",
       "0030N00002LQq4ZQAT                   0                   0   \n",
       "0030N00002oRGn5QAG                   0                   0   \n",
       "0030N00002Wx04qQAB                   0                   0   \n",
       "0030N00002TZoQwQAL                   0                   0   \n",
       "\n",
       "                    a060N00002hWZlMQAW  a060N00002hWdROQA0  \\\n",
       "cust_id                                                      \n",
       "0030N00002LQq4ZQAT                   0                   0   \n",
       "0030N00002oRGn5QAG                   0                   0   \n",
       "0030N00002Wx04qQAB                   0                   0   \n",
       "0030N00002TZoQwQAL                   0                   0   \n",
       "\n",
       "                    a060N00002hWdV2QAK  a060N00002hW5sdQAC  \n",
       "cust_id                                                     \n",
       "0030N00002LQq4ZQAT                   0                   0  \n",
       "0030N00002oRGn5QAG                   0                   0  \n",
       "0030N00002Wx04qQAB                   0                   0  \n",
       "0030N00002TZoQwQAL                   0                   0  \n",
       "\n",
       "[4 rows x 1415 columns]"
      ]
     },
     "execution_count": 103,
     "metadata": {},
     "output_type": "execute_result"
    }
   ],
   "source": [
    "## Add on ingredient id cols with 0 for each user\n",
    "## cust_id | meal_count | ing1 | ing2 | ing3 | ... | ingn\n",
    "ing_frequency = cust_order_count\n",
    "for ig in ig_ids:\n",
    "    ing_frequency[ig] = 0\n",
    "ing_frequency.sample(4)"
   ]
  },
  {
   "cell_type": "code",
   "execution_count": null,
   "metadata": {},
   "outputs": [],
   "source": []
  }
 ],
 "metadata": {
  "kernelspec": {
   "display_name": "Python 3",
   "language": "python",
   "name": "python3"
  },
  "language_info": {
   "codemirror_mode": {
    "name": "ipython",
    "version": 3
   },
   "file_extension": ".py",
   "mimetype": "text/x-python",
   "name": "python",
   "nbconvert_exporter": "python",
   "pygments_lexer": "ipython3",
   "version": "3.6.8"
  }
 },
 "nbformat": 4,
 "nbformat_minor": 2
}
